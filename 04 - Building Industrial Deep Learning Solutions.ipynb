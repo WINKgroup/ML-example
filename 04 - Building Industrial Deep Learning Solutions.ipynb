{
 "cells": [
  {
   "cell_type": "markdown",
   "metadata": {},
   "source": [
    "# Building Instustrial Deep Learning Solutions\n",
    "\n",
    "<p style=\"text-align: center;\">Daniele Solombrino <br>\n",
    "dansolombrino@{gmail.com,GitHub}</p>"
   ]
  },
  {
   "cell_type": "markdown",
   "metadata": {},
   "source": [
    "## Virtual Environments"
   ]
  },
  {
   "cell_type": "markdown",
   "metadata": {},
   "source": [
    "First rule of a good coding project: hygiene!\n",
    "\n",
    "Every project should have its own **Python virtual environment**, so as packages installed for one project do not collide with packages needed by other projects.\n",
    "\n",
    "Python virtual environments can be created in different ways.\n",
    "\n",
    "Today, we will use `python venv`, which comes already installed in the latest Python versions (>=3.3)"
   ]
  },
  {
   "cell_type": "markdown",
   "metadata": {},
   "source": [
    "First, we are going to create the virtual environment, by pasting the following code into the terminal\n",
    "\n",
    "`python -m venv digits_classification`\n",
    "\n",
    "Then, we are going to activate the virtual environment by pasting this other line into the terminal\n",
    "\n",
    "`source digits_classification/bin/activate`"
   ]
  },
  {
   "cell_type": "markdown",
   "metadata": {},
   "source": [
    "## requirements.txt"
   ]
  },
  {
   "cell_type": "markdown",
   "metadata": {},
   "source": [
    "Each project requires some Python packages to be installed.\n",
    "\n",
    "Add them all in the file named `requirements.txt`.\n",
    "\n",
    "Anytime someone has to replicate your environment, they will simply do a `pip3 install -r requirements.txt` on their machine, after having created and activated the virtual environment."
   ]
  },
  {
   "cell_type": "markdown",
   "metadata": {},
   "source": [
    "## The problem"
   ]
  },
  {
   "cell_type": "markdown",
   "metadata": {},
   "source": [
    "You are handling a client which gave you a problem to solve.\n",
    "\n",
    "This problem includes the following need: recognize handwritten digits that have been OCR'd from a system the client is already using."
   ]
  },
  {
   "cell_type": "markdown",
   "metadata": {},
   "source": [
    "## Data"
   ]
  },
  {
   "cell_type": "markdown",
   "metadata": {},
   "source": [
    "### Data loading"
   ]
  },
  {
   "cell_type": "markdown",
   "metadata": {},
   "source": [
    "After some time spent online, you find information about this dataset, which is the closest to the inputs that the client has: [MNIST](https://en.wikipedia.org/wiki/MNIST_database)\n",
    "\n",
    "You start looking around and you find different sources to get it, including [this](https://www.kaggle.com/datasets/hojjatk/mnist-dataset) Kaggle page and [this](https://github.com/yawen-d/Neural-Network-on-MNIST-with-NumPy-from-Scratch) GitHub repo.\n",
    "\n",
    "You look at the pages and you find that the GitHub has the files in a much much more convenient way, so you decide to download them from there.\n",
    "\n",
    "For practicality, the data has been already downloaded for you and are included in this repo."
   ]
  },
  {
   "cell_type": "markdown",
   "metadata": {},
   "source": [
    "Remember what we have stated in the previous weeks: never, EVER, trust code coming from other people blindly.\n",
    "\n",
    "For this reason, we are going to look into the data.\n",
    "\n",
    "The file is in hdf5 format, which needs its Python lib to be handled correctly.\n",
    "\n",
    "We add the library to the `requirements.txt` file and install it by doing `pip3 install h5py`"
   ]
  },
  {
   "cell_type": "code",
   "execution_count": 19,
   "metadata": {},
   "outputs": [],
   "source": [
    "import h5py"
   ]
  },
  {
   "cell_type": "code",
   "execution_count": 20,
   "metadata": {},
   "outputs": [],
   "source": [
    "MNIST_data = h5py.File('MNISTdata.hdf5', 'r')"
   ]
  },
  {
   "cell_type": "markdown",
   "metadata": {},
   "source": [
    "Since we have zero trust on whoever provided the data, first and foremost, we are going to see that data is stored inside the archive file.\n",
    "\n",
    "h5 files can be treated as dictionaries, so the first thing that makes sense is to look at the keys of the archive."
   ]
  },
  {
   "cell_type": "code",
   "execution_count": 21,
   "metadata": {},
   "outputs": [],
   "source": [
    "from rich import print # nicer prints"
   ]
  },
  {
   "cell_type": "code",
   "execution_count": 22,
   "metadata": {},
   "outputs": [
    {
     "data": {
      "text/html": [
       "<pre style=\"white-space:pre;overflow-x:auto;line-height:normal;font-family:Menlo,'DejaVu Sans Mono',consolas,'Courier New',monospace\"><span style=\"font-weight: bold\">&lt;</span><span style=\"color: #ff00ff; text-decoration-color: #ff00ff; font-weight: bold\">KeysViewHDF5</span><span style=\"color: #000000; text-decoration-color: #000000\"> </span><span style=\"color: #000000; text-decoration-color: #000000; font-weight: bold\">[</span><span style=\"color: #008000; text-decoration-color: #008000\">'x_test'</span><span style=\"color: #000000; text-decoration-color: #000000\">, </span><span style=\"color: #008000; text-decoration-color: #008000\">'x_train'</span><span style=\"color: #000000; text-decoration-color: #000000\">, </span><span style=\"color: #008000; text-decoration-color: #008000\">'y_test'</span><span style=\"color: #000000; text-decoration-color: #000000\">, </span><span style=\"color: #008000; text-decoration-color: #008000\">'y_train'</span><span style=\"color: #000000; text-decoration-color: #000000; font-weight: bold\">]</span><span style=\"font-weight: bold\">&gt;</span>\n",
       "</pre>\n"
      ],
      "text/plain": [
       "\u001b[1m<\u001b[0m\u001b[1;95mKeysViewHDF5\u001b[0m\u001b[39m \u001b[0m\u001b[1;39m[\u001b[0m\u001b[32m'x_test'\u001b[0m\u001b[39m, \u001b[0m\u001b[32m'x_train'\u001b[0m\u001b[39m, \u001b[0m\u001b[32m'y_test'\u001b[0m\u001b[39m, \u001b[0m\u001b[32m'y_train'\u001b[0m\u001b[1;39m]\u001b[0m\u001b[1m>\u001b[0m\n"
      ]
     },
     "metadata": {},
     "output_type": "display_data"
    }
   ],
   "source": [
    "print(MNIST_data.keys())"
   ]
  },
  {
   "cell_type": "markdown",
   "metadata": {},
   "source": [
    "### Data splitting"
   ]
  },
  {
   "cell_type": "markdown",
   "metadata": {},
   "source": [
    "The archive has four Tensors: X_train, X_test, Y_train, Y_test.\n",
    "\n",
    "A couple of questions for you:\n",
    "\n",
    "1) Why $X$ and $Y$?\n",
    "2) Why train and test?\n",
    "\n",
    "$X$ are the inputs and $Y$ are the outputs, as we are in a supervised setting scenario!\n",
    "\n",
    "As we stated these weeks, we want Machine/Deep Learning models that generalize to never-seen-before data! <br>\n",
    "For this reason, we hold a portion of the data out, the test data, to verify our performance on data never seen before!<br>\n",
    "To be complete, we are also going to get another portion of data not used for training, the \"validation\" set.<br>\n",
    "We are going to give more details about test vs. validation it in the appropriate time, for now, we are just going to save the various data splits."
   ]
  },
  {
   "cell_type": "code",
   "execution_count": 23,
   "metadata": {},
   "outputs": [],
   "source": [
    "# train data\n",
    "X_train = MNIST_data['x_train'][:]\n",
    "Y_train = MNIST_data['y_train'][:]\n",
    "\n",
    "# test data\n",
    "X_test = MNIST_data['x_test'][:]\n",
    "Y_test = MNIST_data['y_test'][:]"
   ]
  },
  {
   "cell_type": "code",
   "execution_count": 24,
   "metadata": {},
   "outputs": [
    {
     "data": {
      "text/html": [
       "<pre style=\"white-space:pre;overflow-x:auto;line-height:normal;font-family:Menlo,'DejaVu Sans Mono',consolas,'Courier New',monospace\">X_train.shape: <span style=\"font-weight: bold\">(</span><span style=\"color: #008080; text-decoration-color: #008080; font-weight: bold\">60000</span>, <span style=\"color: #008080; text-decoration-color: #008080; font-weight: bold\">784</span><span style=\"font-weight: bold\">)</span>\n",
       "</pre>\n"
      ],
      "text/plain": [
       "X_train.shape: \u001b[1m(\u001b[0m\u001b[1;36m60000\u001b[0m, \u001b[1;36m784\u001b[0m\u001b[1m)\u001b[0m\n"
      ]
     },
     "metadata": {},
     "output_type": "display_data"
    },
    {
     "data": {
      "text/html": [
       "<pre style=\"white-space:pre;overflow-x:auto;line-height:normal;font-family:Menlo,'DejaVu Sans Mono',consolas,'Courier New',monospace\">Y_train.shape: <span style=\"font-weight: bold\">(</span><span style=\"color: #008080; text-decoration-color: #008080; font-weight: bold\">60000</span>, <span style=\"color: #008080; text-decoration-color: #008080; font-weight: bold\">1</span><span style=\"font-weight: bold\">)</span>\n",
       "</pre>\n"
      ],
      "text/plain": [
       "Y_train.shape: \u001b[1m(\u001b[0m\u001b[1;36m60000\u001b[0m, \u001b[1;36m1\u001b[0m\u001b[1m)\u001b[0m\n"
      ]
     },
     "metadata": {},
     "output_type": "display_data"
    },
    {
     "data": {
      "text/html": [
       "<pre style=\"white-space:pre;overflow-x:auto;line-height:normal;font-family:Menlo,'DejaVu Sans Mono',consolas,'Courier New',monospace\">X_test.shape: <span style=\"font-weight: bold\">(</span><span style=\"color: #008080; text-decoration-color: #008080; font-weight: bold\">10000</span>, <span style=\"color: #008080; text-decoration-color: #008080; font-weight: bold\">784</span><span style=\"font-weight: bold\">)</span>\n",
       "</pre>\n"
      ],
      "text/plain": [
       "X_test.shape: \u001b[1m(\u001b[0m\u001b[1;36m10000\u001b[0m, \u001b[1;36m784\u001b[0m\u001b[1m)\u001b[0m\n"
      ]
     },
     "metadata": {},
     "output_type": "display_data"
    },
    {
     "data": {
      "text/html": [
       "<pre style=\"white-space:pre;overflow-x:auto;line-height:normal;font-family:Menlo,'DejaVu Sans Mono',consolas,'Courier New',monospace\">Y_test.shape: <span style=\"font-weight: bold\">(</span><span style=\"color: #008080; text-decoration-color: #008080; font-weight: bold\">10000</span>, <span style=\"color: #008080; text-decoration-color: #008080; font-weight: bold\">1</span><span style=\"font-weight: bold\">)</span>\n",
       "</pre>\n"
      ],
      "text/plain": [
       "Y_test.shape: \u001b[1m(\u001b[0m\u001b[1;36m10000\u001b[0m, \u001b[1;36m1\u001b[0m\u001b[1m)\u001b[0m\n"
      ]
     },
     "metadata": {},
     "output_type": "display_data"
    }
   ],
   "source": [
    "print(f\"X_train.shape: {X_train.shape}\")\n",
    "print(f\"Y_train.shape: {Y_train.shape}\")\n",
    "print(f\"X_test.shape: {X_test.shape}\")\n",
    "print(f\"Y_test.shape: {Y_test.shape}\")"
   ]
  },
  {
   "cell_type": "markdown",
   "metadata": {},
   "source": [
    "Do these shapes make sense to you? What do you think these values mean?"
   ]
  },
  {
   "cell_type": "markdown",
   "metadata": {},
   "source": [
    "$60k$ and $10k$ are the number of data samples in each split.\n",
    "\n",
    "$768$ is the number of features that each data sample has.\n",
    "\n",
    "$1$ is the label for each sample"
   ]
  },
  {
   "cell_type": "markdown",
   "metadata": {},
   "source": [
    "Let's create the additional validation split"
   ]
  },
  {
   "cell_type": "code",
   "execution_count": 25,
   "metadata": {},
   "outputs": [],
   "source": [
    "X_val = X_train[50000:60000]\n",
    "Y_val = Y_train[50000:60000]\n",
    "\n",
    "X_train = X_train[0:50000]\n",
    "Y_train = Y_train[0:50000]"
   ]
  },
  {
   "cell_type": "code",
   "execution_count": 26,
   "metadata": {},
   "outputs": [
    {
     "data": {
      "text/html": [
       "<pre style=\"white-space:pre;overflow-x:auto;line-height:normal;font-family:Menlo,'DejaVu Sans Mono',consolas,'Courier New',monospace\">X_train.shape: <span style=\"font-weight: bold\">(</span><span style=\"color: #008080; text-decoration-color: #008080; font-weight: bold\">50000</span>, <span style=\"color: #008080; text-decoration-color: #008080; font-weight: bold\">784</span><span style=\"font-weight: bold\">)</span>\n",
       "</pre>\n"
      ],
      "text/plain": [
       "X_train.shape: \u001b[1m(\u001b[0m\u001b[1;36m50000\u001b[0m, \u001b[1;36m784\u001b[0m\u001b[1m)\u001b[0m\n"
      ]
     },
     "metadata": {},
     "output_type": "display_data"
    },
    {
     "data": {
      "text/html": [
       "<pre style=\"white-space:pre;overflow-x:auto;line-height:normal;font-family:Menlo,'DejaVu Sans Mono',consolas,'Courier New',monospace\">Y_train.shape: <span style=\"font-weight: bold\">(</span><span style=\"color: #008080; text-decoration-color: #008080; font-weight: bold\">50000</span>, <span style=\"color: #008080; text-decoration-color: #008080; font-weight: bold\">1</span><span style=\"font-weight: bold\">)</span>\n",
       "</pre>\n"
      ],
      "text/plain": [
       "Y_train.shape: \u001b[1m(\u001b[0m\u001b[1;36m50000\u001b[0m, \u001b[1;36m1\u001b[0m\u001b[1m)\u001b[0m\n"
      ]
     },
     "metadata": {},
     "output_type": "display_data"
    },
    {
     "data": {
      "text/html": [
       "<pre style=\"white-space:pre;overflow-x:auto;line-height:normal;font-family:Menlo,'DejaVu Sans Mono',consolas,'Courier New',monospace\">X_val.shape: <span style=\"font-weight: bold\">(</span><span style=\"color: #008080; text-decoration-color: #008080; font-weight: bold\">10000</span>, <span style=\"color: #008080; text-decoration-color: #008080; font-weight: bold\">784</span><span style=\"font-weight: bold\">)</span>\n",
       "</pre>\n"
      ],
      "text/plain": [
       "X_val.shape: \u001b[1m(\u001b[0m\u001b[1;36m10000\u001b[0m, \u001b[1;36m784\u001b[0m\u001b[1m)\u001b[0m\n"
      ]
     },
     "metadata": {},
     "output_type": "display_data"
    },
    {
     "data": {
      "text/html": [
       "<pre style=\"white-space:pre;overflow-x:auto;line-height:normal;font-family:Menlo,'DejaVu Sans Mono',consolas,'Courier New',monospace\">Y_val.shape: <span style=\"font-weight: bold\">(</span><span style=\"color: #008080; text-decoration-color: #008080; font-weight: bold\">10000</span>, <span style=\"color: #008080; text-decoration-color: #008080; font-weight: bold\">1</span><span style=\"font-weight: bold\">)</span>\n",
       "</pre>\n"
      ],
      "text/plain": [
       "Y_val.shape: \u001b[1m(\u001b[0m\u001b[1;36m10000\u001b[0m, \u001b[1;36m1\u001b[0m\u001b[1m)\u001b[0m\n"
      ]
     },
     "metadata": {},
     "output_type": "display_data"
    },
    {
     "data": {
      "text/html": [
       "<pre style=\"white-space:pre;overflow-x:auto;line-height:normal;font-family:Menlo,'DejaVu Sans Mono',consolas,'Courier New',monospace\">X_test.shape: <span style=\"font-weight: bold\">(</span><span style=\"color: #008080; text-decoration-color: #008080; font-weight: bold\">10000</span>, <span style=\"color: #008080; text-decoration-color: #008080; font-weight: bold\">784</span><span style=\"font-weight: bold\">)</span>\n",
       "</pre>\n"
      ],
      "text/plain": [
       "X_test.shape: \u001b[1m(\u001b[0m\u001b[1;36m10000\u001b[0m, \u001b[1;36m784\u001b[0m\u001b[1m)\u001b[0m\n"
      ]
     },
     "metadata": {},
     "output_type": "display_data"
    },
    {
     "data": {
      "text/html": [
       "<pre style=\"white-space:pre;overflow-x:auto;line-height:normal;font-family:Menlo,'DejaVu Sans Mono',consolas,'Courier New',monospace\">Y_test.shape: <span style=\"font-weight: bold\">(</span><span style=\"color: #008080; text-decoration-color: #008080; font-weight: bold\">10000</span>, <span style=\"color: #008080; text-decoration-color: #008080; font-weight: bold\">1</span><span style=\"font-weight: bold\">)</span>\n",
       "</pre>\n"
      ],
      "text/plain": [
       "Y_test.shape: \u001b[1m(\u001b[0m\u001b[1;36m10000\u001b[0m, \u001b[1;36m1\u001b[0m\u001b[1m)\u001b[0m\n"
      ]
     },
     "metadata": {},
     "output_type": "display_data"
    }
   ],
   "source": [
    "print(f\"X_train.shape: {X_train.shape}\")\n",
    "print(f\"Y_train.shape: {Y_train.shape}\")\n",
    "print(f\"X_val.shape: {X_val.shape}\")\n",
    "print(f\"Y_val.shape: {Y_val.shape}\")\n",
    "print(f\"X_test.shape: {X_test.shape}\")\n",
    "print(f\"Y_test.shape: {Y_test.shape}\")"
   ]
  },
  {
   "cell_type": "markdown",
   "metadata": {},
   "source": [
    "There is not a fixed rule about the split sizes. The most used values are: 60/20/20, 70/20/10 and 80/10/10 (train %/val %/test %).\n",
    "\n",
    "In this case, we are using a 70/15/15, as other percentages would've required more operations to be computed."
   ]
  },
  {
   "cell_type": "markdown",
   "metadata": {},
   "source": [
    "Hygiene rule: never, EVER, have overlapping data samples between the splits. \n",
    "\n",
    "Training data is for training.\n",
    "Validation data is for validation.\n",
    "Test data is for testing.\n",
    "\n",
    "Each split has its own \"goal\"."
   ]
  },
  {
   "cell_type": "markdown",
   "metadata": {},
   "source": [
    "### Providing data to models"
   ]
  },
  {
   "cell_type": "markdown",
   "metadata": {},
   "source": [
    "We have some data in memory, but we still need to have a way of bringing this data to the model that we will use for our predictions.\n",
    "\n",
    "The framework we are going to use, PyTorch, provides an abstract class, `Dataset`, which we are supposed to specialize.\n",
    "\n",
    "The abstract class `Dataset` requires the specification of two methods, `init()`, `len()`, and `get_item()`.\n",
    "\n",
    "The `init()` method simply builds the specialized `Dataset` object, the `len()` method returns the total number of elements in the dataset, while the `get_item()` method is responsible for actually providing data when necessary. "
   ]
  },
  {
   "cell_type": "code",
   "execution_count": 27,
   "metadata": {},
   "outputs": [],
   "source": [
    "import torch\n",
    "from torch.utils.data import Dataset\n",
    "\n",
    "class MNISTDataset(Dataset):\n",
    "    def __init__(self, X_data, Y_data):\n",
    "        \"\"\"\n",
    "        Initializes the dataset with features and labels.\n",
    "\n",
    "        Args:\n",
    "            X_data (numpy array): The feature data, e.g., images.\n",
    "            Y_data (numpy array): The labels corresponding to the images.\n",
    "        \"\"\"\n",
    "        self.X_data = X_data  # Store the features\n",
    "        self.Y_data = Y_data  # Store the labels\n",
    "\n",
    "    def __len__(self):\n",
    "        \"\"\"\n",
    "        Returns the total number of samples in the dataset.\n",
    "        \"\"\"\n",
    "        return len(self.X_data)\n",
    "\n",
    "    def __getitem__(self, idx):\n",
    "        \"\"\"\n",
    "        Generates one sample of data.\n",
    "\n",
    "        Args:\n",
    "            idx (int): Index of the sample to retrieve.\n",
    "\n",
    "        Returns:\n",
    "            tuple: (image, label) where image is the input data and label is the corresponding label.\n",
    "        \"\"\"\n",
    "        # Retrieve the image and label using the index\n",
    "        image = self.X_data[idx]\n",
    "        label = self.Y_data[idx]\n",
    "\n",
    "        # Convert the image and label to PyTorch tensors\n",
    "        image = torch.tensor(image, dtype=torch.float32)\n",
    "        label = torch.tensor(label, dtype=torch.long)\n",
    "\n",
    "        return {\n",
    "            \"image\": image, \n",
    "            \"label\": label\n",
    "        }"
   ]
  },
  {
   "cell_type": "markdown",
   "metadata": {},
   "source": [
    "Let's now instantiate three `MNISTDataset` objects, one for each split"
   ]
  },
  {
   "cell_type": "code",
   "execution_count": 28,
   "metadata": {},
   "outputs": [],
   "source": [
    "ds_train = MNISTDataset(X_data=X_train, Y_data=Y_train)\n",
    "ds_val = MNISTDataset(X_data=X_val, Y_data=Y_val)\n",
    "ds_test = MNISTDataset(X_data=X_test, Y_data=Y_test)"
   ]
  },
  {
   "cell_type": "markdown",
   "metadata": {},
   "source": [
    "Let's now try whether they work as expected or not..."
   ]
  },
  {
   "cell_type": "code",
   "execution_count": 29,
   "metadata": {},
   "outputs": [
    {
     "data": {
      "text/html": [
       "<pre style=\"white-space:pre;overflow-x:auto;line-height:normal;font-family:Menlo,'DejaVu Sans Mono',consolas,'Courier New',monospace\"><span style=\"color: #800080; text-decoration-color: #800080; font-weight: bold\">len</span><span style=\"font-weight: bold\">(</span>ds_train<span style=\"font-weight: bold\">)</span>: <span style=\"color: #008080; text-decoration-color: #008080; font-weight: bold\">50000</span>\n",
       "</pre>\n"
      ],
      "text/plain": [
       "\u001b[1;35mlen\u001b[0m\u001b[1m(\u001b[0mds_train\u001b[1m)\u001b[0m: \u001b[1;36m50000\u001b[0m\n"
      ]
     },
     "metadata": {},
     "output_type": "display_data"
    },
    {
     "data": {
      "text/html": [
       "<pre style=\"white-space:pre;overflow-x:auto;line-height:normal;font-family:Menlo,'DejaVu Sans Mono',consolas,'Courier New',monospace\"><span style=\"color: #800080; text-decoration-color: #800080; font-weight: bold\">len</span><span style=\"font-weight: bold\">(</span>ds_val<span style=\"font-weight: bold\">)</span>: <span style=\"color: #008080; text-decoration-color: #008080; font-weight: bold\">10000</span>\n",
       "</pre>\n"
      ],
      "text/plain": [
       "\u001b[1;35mlen\u001b[0m\u001b[1m(\u001b[0mds_val\u001b[1m)\u001b[0m: \u001b[1;36m10000\u001b[0m\n"
      ]
     },
     "metadata": {},
     "output_type": "display_data"
    },
    {
     "data": {
      "text/html": [
       "<pre style=\"white-space:pre;overflow-x:auto;line-height:normal;font-family:Menlo,'DejaVu Sans Mono',consolas,'Courier New',monospace\"><span style=\"color: #800080; text-decoration-color: #800080; font-weight: bold\">len</span><span style=\"font-weight: bold\">(</span>ds_test<span style=\"font-weight: bold\">)</span>: <span style=\"color: #008080; text-decoration-color: #008080; font-weight: bold\">10000</span>\n",
       "</pre>\n"
      ],
      "text/plain": [
       "\u001b[1;35mlen\u001b[0m\u001b[1m(\u001b[0mds_test\u001b[1m)\u001b[0m: \u001b[1;36m10000\u001b[0m\n"
      ]
     },
     "metadata": {},
     "output_type": "display_data"
    }
   ],
   "source": [
    "print(f\"len(ds_train): {len(ds_train)}\")\n",
    "print(f\"len(ds_val): {len(ds_val)}\")\n",
    "print(f\"len(ds_test): {len(ds_test)}\")"
   ]
  },
  {
   "cell_type": "code",
   "execution_count": 31,
   "metadata": {},
   "outputs": [
    {
     "data": {
      "text/html": [
       "<pre style=\"white-space:pre;overflow-x:auto;line-height:normal;font-family:Menlo,'DejaVu Sans Mono',consolas,'Courier New',monospace\">image.shape: <span style=\"color: #800080; text-decoration-color: #800080; font-weight: bold\">torch.Size</span><span style=\"font-weight: bold\">([</span><span style=\"color: #008080; text-decoration-color: #008080; font-weight: bold\">784</span><span style=\"font-weight: bold\">])</span>\n",
       "</pre>\n"
      ],
      "text/plain": [
       "image.shape: \u001b[1;35mtorch.Size\u001b[0m\u001b[1m(\u001b[0m\u001b[1m[\u001b[0m\u001b[1;36m784\u001b[0m\u001b[1m]\u001b[0m\u001b[1m)\u001b[0m\n"
      ]
     },
     "metadata": {},
     "output_type": "display_data"
    },
    {
     "data": {
      "text/html": [
       "<pre style=\"white-space:pre;overflow-x:auto;line-height:normal;font-family:Menlo,'DejaVu Sans Mono',consolas,'Courier New',monospace\">label.shape: <span style=\"color: #800080; text-decoration-color: #800080; font-weight: bold\">torch.Size</span><span style=\"font-weight: bold\">([</span><span style=\"color: #008080; text-decoration-color: #008080; font-weight: bold\">1</span><span style=\"font-weight: bold\">])</span>\n",
       "</pre>\n"
      ],
      "text/plain": [
       "label.shape: \u001b[1;35mtorch.Size\u001b[0m\u001b[1m(\u001b[0m\u001b[1m[\u001b[0m\u001b[1;36m1\u001b[0m\u001b[1m]\u001b[0m\u001b[1m)\u001b[0m\n"
      ]
     },
     "metadata": {},
     "output_type": "display_data"
    },
    {
     "data": {
      "text/html": [
       "<pre style=\"white-space:pre;overflow-x:auto;line-height:normal;font-family:Menlo,'DejaVu Sans Mono',consolas,'Courier New',monospace\">image: <span style=\"color: #800080; text-decoration-color: #800080; font-weight: bold\">tensor</span><span style=\"font-weight: bold\">([</span><span style=\"color: #008080; text-decoration-color: #008080; font-weight: bold\">0.0000</span>, <span style=\"color: #008080; text-decoration-color: #008080; font-weight: bold\">0.0000</span>, <span style=\"color: #008080; text-decoration-color: #008080; font-weight: bold\">0.0000</span>, <span style=\"color: #008080; text-decoration-color: #008080; font-weight: bold\">0.0000</span>, <span style=\"color: #008080; text-decoration-color: #008080; font-weight: bold\">0.0000</span>, <span style=\"color: #008080; text-decoration-color: #008080; font-weight: bold\">0.0000</span>, <span style=\"color: #008080; text-decoration-color: #008080; font-weight: bold\">0.0000</span>, <span style=\"color: #008080; text-decoration-color: #008080; font-weight: bold\">0.0000</span>, <span style=\"color: #008080; text-decoration-color: #008080; font-weight: bold\">0.0000</span>,\n",
       "        <span style=\"color: #008080; text-decoration-color: #008080; font-weight: bold\">0.0000</span>, <span style=\"color: #008080; text-decoration-color: #008080; font-weight: bold\">0.0000</span>, <span style=\"color: #008080; text-decoration-color: #008080; font-weight: bold\">0.0000</span>, <span style=\"color: #008080; text-decoration-color: #008080; font-weight: bold\">0.0000</span>, <span style=\"color: #008080; text-decoration-color: #008080; font-weight: bold\">0.0000</span>, <span style=\"color: #008080; text-decoration-color: #008080; font-weight: bold\">0.0000</span>, <span style=\"color: #008080; text-decoration-color: #008080; font-weight: bold\">0.0000</span>, <span style=\"color: #008080; text-decoration-color: #008080; font-weight: bold\">0.0000</span>, <span style=\"color: #008080; text-decoration-color: #008080; font-weight: bold\">0.0000</span>,\n",
       "        <span style=\"color: #008080; text-decoration-color: #008080; font-weight: bold\">0.0000</span>, <span style=\"color: #008080; text-decoration-color: #008080; font-weight: bold\">0.0000</span>, <span style=\"color: #008080; text-decoration-color: #008080; font-weight: bold\">0.0000</span>, <span style=\"color: #008080; text-decoration-color: #008080; font-weight: bold\">0.0000</span>, <span style=\"color: #008080; text-decoration-color: #008080; font-weight: bold\">0.0000</span>, <span style=\"color: #008080; text-decoration-color: #008080; font-weight: bold\">0.0000</span>, <span style=\"color: #008080; text-decoration-color: #008080; font-weight: bold\">0.0000</span>, <span style=\"color: #008080; text-decoration-color: #008080; font-weight: bold\">0.0000</span>, <span style=\"color: #008080; text-decoration-color: #008080; font-weight: bold\">0.0000</span>,\n",
       "        <span style=\"color: #008080; text-decoration-color: #008080; font-weight: bold\">0.0000</span>, <span style=\"color: #008080; text-decoration-color: #008080; font-weight: bold\">0.0000</span>, <span style=\"color: #008080; text-decoration-color: #008080; font-weight: bold\">0.0000</span>, <span style=\"color: #008080; text-decoration-color: #008080; font-weight: bold\">0.0000</span>, <span style=\"color: #008080; text-decoration-color: #008080; font-weight: bold\">0.0000</span>, <span style=\"color: #008080; text-decoration-color: #008080; font-weight: bold\">0.0000</span>, <span style=\"color: #008080; text-decoration-color: #008080; font-weight: bold\">0.0000</span>, <span style=\"color: #008080; text-decoration-color: #008080; font-weight: bold\">0.0000</span>, <span style=\"color: #008080; text-decoration-color: #008080; font-weight: bold\">0.0000</span>,\n",
       "        <span style=\"color: #008080; text-decoration-color: #008080; font-weight: bold\">0.0000</span>, <span style=\"color: #008080; text-decoration-color: #008080; font-weight: bold\">0.0000</span>, <span style=\"color: #008080; text-decoration-color: #008080; font-weight: bold\">0.0000</span>, <span style=\"color: #008080; text-decoration-color: #008080; font-weight: bold\">0.0000</span>, <span style=\"color: #008080; text-decoration-color: #008080; font-weight: bold\">0.0000</span>, <span style=\"color: #008080; text-decoration-color: #008080; font-weight: bold\">0.0000</span>, <span style=\"color: #008080; text-decoration-color: #008080; font-weight: bold\">0.0000</span>, <span style=\"color: #008080; text-decoration-color: #008080; font-weight: bold\">0.0000</span>, <span style=\"color: #008080; text-decoration-color: #008080; font-weight: bold\">0.0000</span>,\n",
       "        <span style=\"color: #008080; text-decoration-color: #008080; font-weight: bold\">0.0000</span>, <span style=\"color: #008080; text-decoration-color: #008080; font-weight: bold\">0.0000</span>, <span style=\"color: #008080; text-decoration-color: #008080; font-weight: bold\">0.0000</span>, <span style=\"color: #008080; text-decoration-color: #008080; font-weight: bold\">0.0000</span>, <span style=\"color: #008080; text-decoration-color: #008080; font-weight: bold\">0.0000</span>, <span style=\"color: #008080; text-decoration-color: #008080; font-weight: bold\">0.0000</span>, <span style=\"color: #008080; text-decoration-color: #008080; font-weight: bold\">0.0000</span>, <span style=\"color: #008080; text-decoration-color: #008080; font-weight: bold\">0.0000</span>, <span style=\"color: #008080; text-decoration-color: #008080; font-weight: bold\">0.0000</span>,\n",
       "        <span style=\"color: #008080; text-decoration-color: #008080; font-weight: bold\">0.0000</span>, <span style=\"color: #008080; text-decoration-color: #008080; font-weight: bold\">0.0000</span>, <span style=\"color: #008080; text-decoration-color: #008080; font-weight: bold\">0.0000</span>, <span style=\"color: #008080; text-decoration-color: #008080; font-weight: bold\">0.0000</span>, <span style=\"color: #008080; text-decoration-color: #008080; font-weight: bold\">0.0000</span>, <span style=\"color: #008080; text-decoration-color: #008080; font-weight: bold\">0.0000</span>, <span style=\"color: #008080; text-decoration-color: #008080; font-weight: bold\">0.0000</span>, <span style=\"color: #008080; text-decoration-color: #008080; font-weight: bold\">0.0000</span>, <span style=\"color: #008080; text-decoration-color: #008080; font-weight: bold\">0.0000</span>,\n",
       "        <span style=\"color: #008080; text-decoration-color: #008080; font-weight: bold\">0.0000</span>, <span style=\"color: #008080; text-decoration-color: #008080; font-weight: bold\">0.0000</span>, <span style=\"color: #008080; text-decoration-color: #008080; font-weight: bold\">0.0000</span>, <span style=\"color: #008080; text-decoration-color: #008080; font-weight: bold\">0.0000</span>, <span style=\"color: #008080; text-decoration-color: #008080; font-weight: bold\">0.0000</span>, <span style=\"color: #008080; text-decoration-color: #008080; font-weight: bold\">0.0000</span>, <span style=\"color: #008080; text-decoration-color: #008080; font-weight: bold\">0.0000</span>, <span style=\"color: #008080; text-decoration-color: #008080; font-weight: bold\">0.0000</span>, <span style=\"color: #008080; text-decoration-color: #008080; font-weight: bold\">0.0000</span>,\n",
       "        <span style=\"color: #008080; text-decoration-color: #008080; font-weight: bold\">0.0000</span>, <span style=\"color: #008080; text-decoration-color: #008080; font-weight: bold\">0.0000</span>, <span style=\"color: #008080; text-decoration-color: #008080; font-weight: bold\">0.0000</span>, <span style=\"color: #008080; text-decoration-color: #008080; font-weight: bold\">0.0000</span>, <span style=\"color: #008080; text-decoration-color: #008080; font-weight: bold\">0.0000</span>, <span style=\"color: #008080; text-decoration-color: #008080; font-weight: bold\">0.0000</span>, <span style=\"color: #008080; text-decoration-color: #008080; font-weight: bold\">0.0000</span>, <span style=\"color: #008080; text-decoration-color: #008080; font-weight: bold\">0.0000</span>, <span style=\"color: #008080; text-decoration-color: #008080; font-weight: bold\">0.0000</span>,\n",
       "        <span style=\"color: #008080; text-decoration-color: #008080; font-weight: bold\">0.0000</span>, <span style=\"color: #008080; text-decoration-color: #008080; font-weight: bold\">0.0000</span>, <span style=\"color: #008080; text-decoration-color: #008080; font-weight: bold\">0.0000</span>, <span style=\"color: #008080; text-decoration-color: #008080; font-weight: bold\">0.0000</span>, <span style=\"color: #008080; text-decoration-color: #008080; font-weight: bold\">0.0000</span>, <span style=\"color: #008080; text-decoration-color: #008080; font-weight: bold\">0.0000</span>, <span style=\"color: #008080; text-decoration-color: #008080; font-weight: bold\">0.0000</span>, <span style=\"color: #008080; text-decoration-color: #008080; font-weight: bold\">0.0000</span>, <span style=\"color: #008080; text-decoration-color: #008080; font-weight: bold\">0.0000</span>,\n",
       "        <span style=\"color: #008080; text-decoration-color: #008080; font-weight: bold\">0.0000</span>, <span style=\"color: #008080; text-decoration-color: #008080; font-weight: bold\">0.0000</span>, <span style=\"color: #008080; text-decoration-color: #008080; font-weight: bold\">0.0000</span>, <span style=\"color: #008080; text-decoration-color: #008080; font-weight: bold\">0.0000</span>, <span style=\"color: #008080; text-decoration-color: #008080; font-weight: bold\">0.0000</span>, <span style=\"color: #008080; text-decoration-color: #008080; font-weight: bold\">0.0000</span>, <span style=\"color: #008080; text-decoration-color: #008080; font-weight: bold\">0.0000</span>, <span style=\"color: #008080; text-decoration-color: #008080; font-weight: bold\">0.0000</span>, <span style=\"color: #008080; text-decoration-color: #008080; font-weight: bold\">0.0000</span>,\n",
       "        <span style=\"color: #008080; text-decoration-color: #008080; font-weight: bold\">0.0000</span>, <span style=\"color: #008080; text-decoration-color: #008080; font-weight: bold\">0.0000</span>, <span style=\"color: #008080; text-decoration-color: #008080; font-weight: bold\">0.0000</span>, <span style=\"color: #008080; text-decoration-color: #008080; font-weight: bold\">0.0000</span>, <span style=\"color: #008080; text-decoration-color: #008080; font-weight: bold\">0.0000</span>, <span style=\"color: #008080; text-decoration-color: #008080; font-weight: bold\">0.0000</span>, <span style=\"color: #008080; text-decoration-color: #008080; font-weight: bold\">0.0000</span>, <span style=\"color: #008080; text-decoration-color: #008080; font-weight: bold\">0.0000</span>, <span style=\"color: #008080; text-decoration-color: #008080; font-weight: bold\">0.0000</span>,\n",
       "        <span style=\"color: #008080; text-decoration-color: #008080; font-weight: bold\">0.0000</span>, <span style=\"color: #008080; text-decoration-color: #008080; font-weight: bold\">0.0000</span>, <span style=\"color: #008080; text-decoration-color: #008080; font-weight: bold\">0.0000</span>, <span style=\"color: #008080; text-decoration-color: #008080; font-weight: bold\">0.0000</span>, <span style=\"color: #008080; text-decoration-color: #008080; font-weight: bold\">0.0000</span>, <span style=\"color: #008080; text-decoration-color: #008080; font-weight: bold\">0.0000</span>, <span style=\"color: #008080; text-decoration-color: #008080; font-weight: bold\">0.0000</span>, <span style=\"color: #008080; text-decoration-color: #008080; font-weight: bold\">0.0000</span>, <span style=\"color: #008080; text-decoration-color: #008080; font-weight: bold\">0.0000</span>,\n",
       "        <span style=\"color: #008080; text-decoration-color: #008080; font-weight: bold\">0.0000</span>, <span style=\"color: #008080; text-decoration-color: #008080; font-weight: bold\">0.0000</span>, <span style=\"color: #008080; text-decoration-color: #008080; font-weight: bold\">0.0000</span>, <span style=\"color: #008080; text-decoration-color: #008080; font-weight: bold\">0.0000</span>, <span style=\"color: #008080; text-decoration-color: #008080; font-weight: bold\">0.0000</span>, <span style=\"color: #008080; text-decoration-color: #008080; font-weight: bold\">0.0000</span>, <span style=\"color: #008080; text-decoration-color: #008080; font-weight: bold\">0.0000</span>, <span style=\"color: #008080; text-decoration-color: #008080; font-weight: bold\">0.0000</span>, <span style=\"color: #008080; text-decoration-color: #008080; font-weight: bold\">0.0000</span>,\n",
       "        <span style=\"color: #008080; text-decoration-color: #008080; font-weight: bold\">0.0000</span>, <span style=\"color: #008080; text-decoration-color: #008080; font-weight: bold\">0.0000</span>, <span style=\"color: #008080; text-decoration-color: #008080; font-weight: bold\">0.0000</span>, <span style=\"color: #008080; text-decoration-color: #008080; font-weight: bold\">0.0000</span>, <span style=\"color: #008080; text-decoration-color: #008080; font-weight: bold\">0.0000</span>, <span style=\"color: #008080; text-decoration-color: #008080; font-weight: bold\">0.0000</span>, <span style=\"color: #008080; text-decoration-color: #008080; font-weight: bold\">0.0000</span>, <span style=\"color: #008080; text-decoration-color: #008080; font-weight: bold\">0.0000</span>, <span style=\"color: #008080; text-decoration-color: #008080; font-weight: bold\">0.0000</span>,\n",
       "        <span style=\"color: #008080; text-decoration-color: #008080; font-weight: bold\">0.0000</span>, <span style=\"color: #008080; text-decoration-color: #008080; font-weight: bold\">0.0000</span>, <span style=\"color: #008080; text-decoration-color: #008080; font-weight: bold\">0.0000</span>, <span style=\"color: #008080; text-decoration-color: #008080; font-weight: bold\">0.0000</span>, <span style=\"color: #008080; text-decoration-color: #008080; font-weight: bold\">0.0000</span>, <span style=\"color: #008080; text-decoration-color: #008080; font-weight: bold\">0.0000</span>, <span style=\"color: #008080; text-decoration-color: #008080; font-weight: bold\">0.0000</span>, <span style=\"color: #008080; text-decoration-color: #008080; font-weight: bold\">0.0000</span>, <span style=\"color: #008080; text-decoration-color: #008080; font-weight: bold\">0.0000</span>,\n",
       "        <span style=\"color: #008080; text-decoration-color: #008080; font-weight: bold\">0.0000</span>, <span style=\"color: #008080; text-decoration-color: #008080; font-weight: bold\">0.0000</span>, <span style=\"color: #008080; text-decoration-color: #008080; font-weight: bold\">0.0000</span>, <span style=\"color: #008080; text-decoration-color: #008080; font-weight: bold\">0.0000</span>, <span style=\"color: #008080; text-decoration-color: #008080; font-weight: bold\">0.0000</span>, <span style=\"color: #008080; text-decoration-color: #008080; font-weight: bold\">0.0000</span>, <span style=\"color: #008080; text-decoration-color: #008080; font-weight: bold\">0.0000</span>, <span style=\"color: #008080; text-decoration-color: #008080; font-weight: bold\">0.0000</span>, <span style=\"color: #008080; text-decoration-color: #008080; font-weight: bold\">0.0118</span>,\n",
       "        <span style=\"color: #008080; text-decoration-color: #008080; font-weight: bold\">0.0706</span>, <span style=\"color: #008080; text-decoration-color: #008080; font-weight: bold\">0.0706</span>, <span style=\"color: #008080; text-decoration-color: #008080; font-weight: bold\">0.0706</span>, <span style=\"color: #008080; text-decoration-color: #008080; font-weight: bold\">0.4941</span>, <span style=\"color: #008080; text-decoration-color: #008080; font-weight: bold\">0.5333</span>, <span style=\"color: #008080; text-decoration-color: #008080; font-weight: bold\">0.6863</span>, <span style=\"color: #008080; text-decoration-color: #008080; font-weight: bold\">0.1020</span>, <span style=\"color: #008080; text-decoration-color: #008080; font-weight: bold\">0.6510</span>, <span style=\"color: #008080; text-decoration-color: #008080; font-weight: bold\">1.0000</span>,\n",
       "        <span style=\"color: #008080; text-decoration-color: #008080; font-weight: bold\">0.9686</span>, <span style=\"color: #008080; text-decoration-color: #008080; font-weight: bold\">0.4980</span>, <span style=\"color: #008080; text-decoration-color: #008080; font-weight: bold\">0.0000</span>, <span style=\"color: #008080; text-decoration-color: #008080; font-weight: bold\">0.0000</span>, <span style=\"color: #008080; text-decoration-color: #008080; font-weight: bold\">0.0000</span>, <span style=\"color: #008080; text-decoration-color: #008080; font-weight: bold\">0.0000</span>, <span style=\"color: #008080; text-decoration-color: #008080; font-weight: bold\">0.0000</span>, <span style=\"color: #008080; text-decoration-color: #008080; font-weight: bold\">0.0000</span>, <span style=\"color: #008080; text-decoration-color: #008080; font-weight: bold\">0.0000</span>,\n",
       "        <span style=\"color: #008080; text-decoration-color: #008080; font-weight: bold\">0.0000</span>, <span style=\"color: #008080; text-decoration-color: #008080; font-weight: bold\">0.0000</span>, <span style=\"color: #008080; text-decoration-color: #008080; font-weight: bold\">0.0000</span>, <span style=\"color: #008080; text-decoration-color: #008080; font-weight: bold\">0.0000</span>, <span style=\"color: #008080; text-decoration-color: #008080; font-weight: bold\">0.0000</span>, <span style=\"color: #008080; text-decoration-color: #008080; font-weight: bold\">0.1176</span>, <span style=\"color: #008080; text-decoration-color: #008080; font-weight: bold\">0.1412</span>, <span style=\"color: #008080; text-decoration-color: #008080; font-weight: bold\">0.3686</span>, <span style=\"color: #008080; text-decoration-color: #008080; font-weight: bold\">0.6039</span>,\n",
       "        <span style=\"color: #008080; text-decoration-color: #008080; font-weight: bold\">0.6667</span>, <span style=\"color: #008080; text-decoration-color: #008080; font-weight: bold\">0.9922</span>, <span style=\"color: #008080; text-decoration-color: #008080; font-weight: bold\">0.9922</span>, <span style=\"color: #008080; text-decoration-color: #008080; font-weight: bold\">0.9922</span>, <span style=\"color: #008080; text-decoration-color: #008080; font-weight: bold\">0.9922</span>, <span style=\"color: #008080; text-decoration-color: #008080; font-weight: bold\">0.9922</span>, <span style=\"color: #008080; text-decoration-color: #008080; font-weight: bold\">0.8824</span>, <span style=\"color: #008080; text-decoration-color: #008080; font-weight: bold\">0.6745</span>, <span style=\"color: #008080; text-decoration-color: #008080; font-weight: bold\">0.9922</span>,\n",
       "        <span style=\"color: #008080; text-decoration-color: #008080; font-weight: bold\">0.9490</span>, <span style=\"color: #008080; text-decoration-color: #008080; font-weight: bold\">0.7647</span>, <span style=\"color: #008080; text-decoration-color: #008080; font-weight: bold\">0.2510</span>, <span style=\"color: #008080; text-decoration-color: #008080; font-weight: bold\">0.0000</span>, <span style=\"color: #008080; text-decoration-color: #008080; font-weight: bold\">0.0000</span>, <span style=\"color: #008080; text-decoration-color: #008080; font-weight: bold\">0.0000</span>, <span style=\"color: #008080; text-decoration-color: #008080; font-weight: bold\">0.0000</span>, <span style=\"color: #008080; text-decoration-color: #008080; font-weight: bold\">0.0000</span>, <span style=\"color: #008080; text-decoration-color: #008080; font-weight: bold\">0.0000</span>,\n",
       "        <span style=\"color: #008080; text-decoration-color: #008080; font-weight: bold\">0.0000</span>, <span style=\"color: #008080; text-decoration-color: #008080; font-weight: bold\">0.0000</span>, <span style=\"color: #008080; text-decoration-color: #008080; font-weight: bold\">0.0000</span>, <span style=\"color: #008080; text-decoration-color: #008080; font-weight: bold\">0.0000</span>, <span style=\"color: #008080; text-decoration-color: #008080; font-weight: bold\">0.0000</span>, <span style=\"color: #008080; text-decoration-color: #008080; font-weight: bold\">0.1922</span>, <span style=\"color: #008080; text-decoration-color: #008080; font-weight: bold\">0.9333</span>, <span style=\"color: #008080; text-decoration-color: #008080; font-weight: bold\">0.9922</span>, <span style=\"color: #008080; text-decoration-color: #008080; font-weight: bold\">0.9922</span>,\n",
       "        <span style=\"color: #008080; text-decoration-color: #008080; font-weight: bold\">0.9922</span>, <span style=\"color: #008080; text-decoration-color: #008080; font-weight: bold\">0.9922</span>, <span style=\"color: #008080; text-decoration-color: #008080; font-weight: bold\">0.9922</span>, <span style=\"color: #008080; text-decoration-color: #008080; font-weight: bold\">0.9922</span>, <span style=\"color: #008080; text-decoration-color: #008080; font-weight: bold\">0.9922</span>, <span style=\"color: #008080; text-decoration-color: #008080; font-weight: bold\">0.9922</span>, <span style=\"color: #008080; text-decoration-color: #008080; font-weight: bold\">0.9843</span>, <span style=\"color: #008080; text-decoration-color: #008080; font-weight: bold\">0.3647</span>, <span style=\"color: #008080; text-decoration-color: #008080; font-weight: bold\">0.3216</span>,\n",
       "        <span style=\"color: #008080; text-decoration-color: #008080; font-weight: bold\">0.3216</span>, <span style=\"color: #008080; text-decoration-color: #008080; font-weight: bold\">0.2196</span>, <span style=\"color: #008080; text-decoration-color: #008080; font-weight: bold\">0.1529</span>, <span style=\"color: #008080; text-decoration-color: #008080; font-weight: bold\">0.0000</span>, <span style=\"color: #008080; text-decoration-color: #008080; font-weight: bold\">0.0000</span>, <span style=\"color: #008080; text-decoration-color: #008080; font-weight: bold\">0.0000</span>, <span style=\"color: #008080; text-decoration-color: #008080; font-weight: bold\">0.0000</span>, <span style=\"color: #008080; text-decoration-color: #008080; font-weight: bold\">0.0000</span>, <span style=\"color: #008080; text-decoration-color: #008080; font-weight: bold\">0.0000</span>,\n",
       "        <span style=\"color: #008080; text-decoration-color: #008080; font-weight: bold\">0.0000</span>, <span style=\"color: #008080; text-decoration-color: #008080; font-weight: bold\">0.0000</span>, <span style=\"color: #008080; text-decoration-color: #008080; font-weight: bold\">0.0000</span>, <span style=\"color: #008080; text-decoration-color: #008080; font-weight: bold\">0.0000</span>, <span style=\"color: #008080; text-decoration-color: #008080; font-weight: bold\">0.0000</span>, <span style=\"color: #008080; text-decoration-color: #008080; font-weight: bold\">0.0000</span>, <span style=\"color: #008080; text-decoration-color: #008080; font-weight: bold\">0.0706</span>, <span style=\"color: #008080; text-decoration-color: #008080; font-weight: bold\">0.8588</span>, <span style=\"color: #008080; text-decoration-color: #008080; font-weight: bold\">0.9922</span>,\n",
       "        <span style=\"color: #008080; text-decoration-color: #008080; font-weight: bold\">0.9922</span>, <span style=\"color: #008080; text-decoration-color: #008080; font-weight: bold\">0.9922</span>, <span style=\"color: #008080; text-decoration-color: #008080; font-weight: bold\">0.9922</span>, <span style=\"color: #008080; text-decoration-color: #008080; font-weight: bold\">0.9922</span>, <span style=\"color: #008080; text-decoration-color: #008080; font-weight: bold\">0.7765</span>, <span style=\"color: #008080; text-decoration-color: #008080; font-weight: bold\">0.7137</span>, <span style=\"color: #008080; text-decoration-color: #008080; font-weight: bold\">0.9686</span>, <span style=\"color: #008080; text-decoration-color: #008080; font-weight: bold\">0.9451</span>, <span style=\"color: #008080; text-decoration-color: #008080; font-weight: bold\">0.0000</span>,\n",
       "        <span style=\"color: #008080; text-decoration-color: #008080; font-weight: bold\">0.0000</span>, <span style=\"color: #008080; text-decoration-color: #008080; font-weight: bold\">0.0000</span>, <span style=\"color: #008080; text-decoration-color: #008080; font-weight: bold\">0.0000</span>, <span style=\"color: #008080; text-decoration-color: #008080; font-weight: bold\">0.0000</span>, <span style=\"color: #008080; text-decoration-color: #008080; font-weight: bold\">0.0000</span>, <span style=\"color: #008080; text-decoration-color: #008080; font-weight: bold\">0.0000</span>, <span style=\"color: #008080; text-decoration-color: #008080; font-weight: bold\">0.0000</span>, <span style=\"color: #008080; text-decoration-color: #008080; font-weight: bold\">0.0000</span>, <span style=\"color: #008080; text-decoration-color: #008080; font-weight: bold\">0.0000</span>,\n",
       "        <span style=\"color: #008080; text-decoration-color: #008080; font-weight: bold\">0.0000</span>, <span style=\"color: #008080; text-decoration-color: #008080; font-weight: bold\">0.0000</span>, <span style=\"color: #008080; text-decoration-color: #008080; font-weight: bold\">0.0000</span>, <span style=\"color: #008080; text-decoration-color: #008080; font-weight: bold\">0.0000</span>, <span style=\"color: #008080; text-decoration-color: #008080; font-weight: bold\">0.0000</span>, <span style=\"color: #008080; text-decoration-color: #008080; font-weight: bold\">0.0000</span>, <span style=\"color: #008080; text-decoration-color: #008080; font-weight: bold\">0.0000</span>, <span style=\"color: #008080; text-decoration-color: #008080; font-weight: bold\">0.0000</span>, <span style=\"color: #008080; text-decoration-color: #008080; font-weight: bold\">0.3137</span>,\n",
       "        <span style=\"color: #008080; text-decoration-color: #008080; font-weight: bold\">0.6118</span>, <span style=\"color: #008080; text-decoration-color: #008080; font-weight: bold\">0.4196</span>, <span style=\"color: #008080; text-decoration-color: #008080; font-weight: bold\">0.9922</span>, <span style=\"color: #008080; text-decoration-color: #008080; font-weight: bold\">0.9922</span>, <span style=\"color: #008080; text-decoration-color: #008080; font-weight: bold\">0.8039</span>, <span style=\"color: #008080; text-decoration-color: #008080; font-weight: bold\">0.0431</span>, <span style=\"color: #008080; text-decoration-color: #008080; font-weight: bold\">0.0000</span>, <span style=\"color: #008080; text-decoration-color: #008080; font-weight: bold\">0.1686</span>, <span style=\"color: #008080; text-decoration-color: #008080; font-weight: bold\">0.6039</span>,\n",
       "        <span style=\"color: #008080; text-decoration-color: #008080; font-weight: bold\">0.0000</span>, <span style=\"color: #008080; text-decoration-color: #008080; font-weight: bold\">0.0000</span>, <span style=\"color: #008080; text-decoration-color: #008080; font-weight: bold\">0.0000</span>, <span style=\"color: #008080; text-decoration-color: #008080; font-weight: bold\">0.0000</span>, <span style=\"color: #008080; text-decoration-color: #008080; font-weight: bold\">0.0000</span>, <span style=\"color: #008080; text-decoration-color: #008080; font-weight: bold\">0.0000</span>, <span style=\"color: #008080; text-decoration-color: #008080; font-weight: bold\">0.0000</span>, <span style=\"color: #008080; text-decoration-color: #008080; font-weight: bold\">0.0000</span>, <span style=\"color: #008080; text-decoration-color: #008080; font-weight: bold\">0.0000</span>,\n",
       "        <span style=\"color: #008080; text-decoration-color: #008080; font-weight: bold\">0.0000</span>, <span style=\"color: #008080; text-decoration-color: #008080; font-weight: bold\">0.0000</span>, <span style=\"color: #008080; text-decoration-color: #008080; font-weight: bold\">0.0000</span>, <span style=\"color: #008080; text-decoration-color: #008080; font-weight: bold\">0.0000</span>, <span style=\"color: #008080; text-decoration-color: #008080; font-weight: bold\">0.0000</span>, <span style=\"color: #008080; text-decoration-color: #008080; font-weight: bold\">0.0000</span>, <span style=\"color: #008080; text-decoration-color: #008080; font-weight: bold\">0.0000</span>, <span style=\"color: #008080; text-decoration-color: #008080; font-weight: bold\">0.0000</span>, <span style=\"color: #008080; text-decoration-color: #008080; font-weight: bold\">0.0000</span>,\n",
       "        <span style=\"color: #008080; text-decoration-color: #008080; font-weight: bold\">0.0000</span>, <span style=\"color: #008080; text-decoration-color: #008080; font-weight: bold\">0.0549</span>, <span style=\"color: #008080; text-decoration-color: #008080; font-weight: bold\">0.0039</span>, <span style=\"color: #008080; text-decoration-color: #008080; font-weight: bold\">0.6039</span>, <span style=\"color: #008080; text-decoration-color: #008080; font-weight: bold\">0.9922</span>, <span style=\"color: #008080; text-decoration-color: #008080; font-weight: bold\">0.3529</span>, <span style=\"color: #008080; text-decoration-color: #008080; font-weight: bold\">0.0000</span>, <span style=\"color: #008080; text-decoration-color: #008080; font-weight: bold\">0.0000</span>, <span style=\"color: #008080; text-decoration-color: #008080; font-weight: bold\">0.0000</span>,\n",
       "        <span style=\"color: #008080; text-decoration-color: #008080; font-weight: bold\">0.0000</span>, <span style=\"color: #008080; text-decoration-color: #008080; font-weight: bold\">0.0000</span>, <span style=\"color: #008080; text-decoration-color: #008080; font-weight: bold\">0.0000</span>, <span style=\"color: #008080; text-decoration-color: #008080; font-weight: bold\">0.0000</span>, <span style=\"color: #008080; text-decoration-color: #008080; font-weight: bold\">0.0000</span>, <span style=\"color: #008080; text-decoration-color: #008080; font-weight: bold\">0.0000</span>, <span style=\"color: #008080; text-decoration-color: #008080; font-weight: bold\">0.0000</span>, <span style=\"color: #008080; text-decoration-color: #008080; font-weight: bold\">0.0000</span>, <span style=\"color: #008080; text-decoration-color: #008080; font-weight: bold\">0.0000</span>,\n",
       "        <span style=\"color: #008080; text-decoration-color: #008080; font-weight: bold\">0.0000</span>, <span style=\"color: #008080; text-decoration-color: #008080; font-weight: bold\">0.0000</span>, <span style=\"color: #008080; text-decoration-color: #008080; font-weight: bold\">0.0000</span>, <span style=\"color: #008080; text-decoration-color: #008080; font-weight: bold\">0.0000</span>, <span style=\"color: #008080; text-decoration-color: #008080; font-weight: bold\">0.0000</span>, <span style=\"color: #008080; text-decoration-color: #008080; font-weight: bold\">0.0000</span>, <span style=\"color: #008080; text-decoration-color: #008080; font-weight: bold\">0.0000</span>, <span style=\"color: #008080; text-decoration-color: #008080; font-weight: bold\">0.0000</span>, <span style=\"color: #008080; text-decoration-color: #008080; font-weight: bold\">0.0000</span>,\n",
       "        <span style=\"color: #008080; text-decoration-color: #008080; font-weight: bold\">0.0000</span>, <span style=\"color: #008080; text-decoration-color: #008080; font-weight: bold\">0.0000</span>, <span style=\"color: #008080; text-decoration-color: #008080; font-weight: bold\">0.0000</span>, <span style=\"color: #008080; text-decoration-color: #008080; font-weight: bold\">0.0000</span>, <span style=\"color: #008080; text-decoration-color: #008080; font-weight: bold\">0.5451</span>, <span style=\"color: #008080; text-decoration-color: #008080; font-weight: bold\">0.9922</span>, <span style=\"color: #008080; text-decoration-color: #008080; font-weight: bold\">0.7451</span>, <span style=\"color: #008080; text-decoration-color: #008080; font-weight: bold\">0.0078</span>, <span style=\"color: #008080; text-decoration-color: #008080; font-weight: bold\">0.0000</span>,\n",
       "        <span style=\"color: #008080; text-decoration-color: #008080; font-weight: bold\">0.0000</span>, <span style=\"color: #008080; text-decoration-color: #008080; font-weight: bold\">0.0000</span>, <span style=\"color: #008080; text-decoration-color: #008080; font-weight: bold\">0.0000</span>, <span style=\"color: #008080; text-decoration-color: #008080; font-weight: bold\">0.0000</span>, <span style=\"color: #008080; text-decoration-color: #008080; font-weight: bold\">0.0000</span>, <span style=\"color: #008080; text-decoration-color: #008080; font-weight: bold\">0.0000</span>, <span style=\"color: #008080; text-decoration-color: #008080; font-weight: bold\">0.0000</span>, <span style=\"color: #008080; text-decoration-color: #008080; font-weight: bold\">0.0000</span>, <span style=\"color: #008080; text-decoration-color: #008080; font-weight: bold\">0.0000</span>,\n",
       "        <span style=\"color: #008080; text-decoration-color: #008080; font-weight: bold\">0.0000</span>, <span style=\"color: #008080; text-decoration-color: #008080; font-weight: bold\">0.0000</span>, <span style=\"color: #008080; text-decoration-color: #008080; font-weight: bold\">0.0000</span>, <span style=\"color: #008080; text-decoration-color: #008080; font-weight: bold\">0.0000</span>, <span style=\"color: #008080; text-decoration-color: #008080; font-weight: bold\">0.0000</span>, <span style=\"color: #008080; text-decoration-color: #008080; font-weight: bold\">0.0000</span>, <span style=\"color: #008080; text-decoration-color: #008080; font-weight: bold\">0.0000</span>, <span style=\"color: #008080; text-decoration-color: #008080; font-weight: bold\">0.0000</span>, <span style=\"color: #008080; text-decoration-color: #008080; font-weight: bold\">0.0000</span>,\n",
       "        <span style=\"color: #008080; text-decoration-color: #008080; font-weight: bold\">0.0000</span>, <span style=\"color: #008080; text-decoration-color: #008080; font-weight: bold\">0.0000</span>, <span style=\"color: #008080; text-decoration-color: #008080; font-weight: bold\">0.0000</span>, <span style=\"color: #008080; text-decoration-color: #008080; font-weight: bold\">0.0000</span>, <span style=\"color: #008080; text-decoration-color: #008080; font-weight: bold\">0.0000</span>, <span style=\"color: #008080; text-decoration-color: #008080; font-weight: bold\">0.0431</span>, <span style=\"color: #008080; text-decoration-color: #008080; font-weight: bold\">0.7451</span>, <span style=\"color: #008080; text-decoration-color: #008080; font-weight: bold\">0.9922</span>, <span style=\"color: #008080; text-decoration-color: #008080; font-weight: bold\">0.2745</span>,\n",
       "        <span style=\"color: #008080; text-decoration-color: #008080; font-weight: bold\">0.0000</span>, <span style=\"color: #008080; text-decoration-color: #008080; font-weight: bold\">0.0000</span>, <span style=\"color: #008080; text-decoration-color: #008080; font-weight: bold\">0.0000</span>, <span style=\"color: #008080; text-decoration-color: #008080; font-weight: bold\">0.0000</span>, <span style=\"color: #008080; text-decoration-color: #008080; font-weight: bold\">0.0000</span>, <span style=\"color: #008080; text-decoration-color: #008080; font-weight: bold\">0.0000</span>, <span style=\"color: #008080; text-decoration-color: #008080; font-weight: bold\">0.0000</span>, <span style=\"color: #008080; text-decoration-color: #008080; font-weight: bold\">0.0000</span>, <span style=\"color: #008080; text-decoration-color: #008080; font-weight: bold\">0.0000</span>,\n",
       "        <span style=\"color: #008080; text-decoration-color: #008080; font-weight: bold\">0.0000</span>, <span style=\"color: #008080; text-decoration-color: #008080; font-weight: bold\">0.0000</span>, <span style=\"color: #008080; text-decoration-color: #008080; font-weight: bold\">0.0000</span>, <span style=\"color: #008080; text-decoration-color: #008080; font-weight: bold\">0.0000</span>, <span style=\"color: #008080; text-decoration-color: #008080; font-weight: bold\">0.0000</span>, <span style=\"color: #008080; text-decoration-color: #008080; font-weight: bold\">0.0000</span>, <span style=\"color: #008080; text-decoration-color: #008080; font-weight: bold\">0.0000</span>, <span style=\"color: #008080; text-decoration-color: #008080; font-weight: bold\">0.0000</span>, <span style=\"color: #008080; text-decoration-color: #008080; font-weight: bold\">0.0000</span>,\n",
       "        <span style=\"color: #008080; text-decoration-color: #008080; font-weight: bold\">0.0000</span>, <span style=\"color: #008080; text-decoration-color: #008080; font-weight: bold\">0.0000</span>, <span style=\"color: #008080; text-decoration-color: #008080; font-weight: bold\">0.0000</span>, <span style=\"color: #008080; text-decoration-color: #008080; font-weight: bold\">0.0000</span>, <span style=\"color: #008080; text-decoration-color: #008080; font-weight: bold\">0.0000</span>, <span style=\"color: #008080; text-decoration-color: #008080; font-weight: bold\">0.0000</span>, <span style=\"color: #008080; text-decoration-color: #008080; font-weight: bold\">0.0000</span>, <span style=\"color: #008080; text-decoration-color: #008080; font-weight: bold\">0.1373</span>, <span style=\"color: #008080; text-decoration-color: #008080; font-weight: bold\">0.9451</span>,\n",
       "        <span style=\"color: #008080; text-decoration-color: #008080; font-weight: bold\">0.8824</span>, <span style=\"color: #008080; text-decoration-color: #008080; font-weight: bold\">0.6275</span>, <span style=\"color: #008080; text-decoration-color: #008080; font-weight: bold\">0.4235</span>, <span style=\"color: #008080; text-decoration-color: #008080; font-weight: bold\">0.0039</span>, <span style=\"color: #008080; text-decoration-color: #008080; font-weight: bold\">0.0000</span>, <span style=\"color: #008080; text-decoration-color: #008080; font-weight: bold\">0.0000</span>, <span style=\"color: #008080; text-decoration-color: #008080; font-weight: bold\">0.0000</span>, <span style=\"color: #008080; text-decoration-color: #008080; font-weight: bold\">0.0000</span>, <span style=\"color: #008080; text-decoration-color: #008080; font-weight: bold\">0.0000</span>,\n",
       "        <span style=\"color: #008080; text-decoration-color: #008080; font-weight: bold\">0.0000</span>, <span style=\"color: #008080; text-decoration-color: #008080; font-weight: bold\">0.0000</span>, <span style=\"color: #008080; text-decoration-color: #008080; font-weight: bold\">0.0000</span>, <span style=\"color: #008080; text-decoration-color: #008080; font-weight: bold\">0.0000</span>, <span style=\"color: #008080; text-decoration-color: #008080; font-weight: bold\">0.0000</span>, <span style=\"color: #008080; text-decoration-color: #008080; font-weight: bold\">0.0000</span>, <span style=\"color: #008080; text-decoration-color: #008080; font-weight: bold\">0.0000</span>, <span style=\"color: #008080; text-decoration-color: #008080; font-weight: bold\">0.0000</span>, <span style=\"color: #008080; text-decoration-color: #008080; font-weight: bold\">0.0000</span>,\n",
       "        <span style=\"color: #008080; text-decoration-color: #008080; font-weight: bold\">0.0000</span>, <span style=\"color: #008080; text-decoration-color: #008080; font-weight: bold\">0.0000</span>, <span style=\"color: #008080; text-decoration-color: #008080; font-weight: bold\">0.0000</span>, <span style=\"color: #008080; text-decoration-color: #008080; font-weight: bold\">0.0000</span>, <span style=\"color: #008080; text-decoration-color: #008080; font-weight: bold\">0.0000</span>, <span style=\"color: #008080; text-decoration-color: #008080; font-weight: bold\">0.0000</span>, <span style=\"color: #008080; text-decoration-color: #008080; font-weight: bold\">0.0000</span>, <span style=\"color: #008080; text-decoration-color: #008080; font-weight: bold\">0.0000</span>, <span style=\"color: #008080; text-decoration-color: #008080; font-weight: bold\">0.0000</span>,\n",
       "        <span style=\"color: #008080; text-decoration-color: #008080; font-weight: bold\">0.3176</span>, <span style=\"color: #008080; text-decoration-color: #008080; font-weight: bold\">0.9412</span>, <span style=\"color: #008080; text-decoration-color: #008080; font-weight: bold\">0.9922</span>, <span style=\"color: #008080; text-decoration-color: #008080; font-weight: bold\">0.9922</span>, <span style=\"color: #008080; text-decoration-color: #008080; font-weight: bold\">0.4667</span>, <span style=\"color: #008080; text-decoration-color: #008080; font-weight: bold\">0.0980</span>, <span style=\"color: #008080; text-decoration-color: #008080; font-weight: bold\">0.0000</span>, <span style=\"color: #008080; text-decoration-color: #008080; font-weight: bold\">0.0000</span>, <span style=\"color: #008080; text-decoration-color: #008080; font-weight: bold\">0.0000</span>,\n",
       "        <span style=\"color: #008080; text-decoration-color: #008080; font-weight: bold\">0.0000</span>, <span style=\"color: #008080; text-decoration-color: #008080; font-weight: bold\">0.0000</span>, <span style=\"color: #008080; text-decoration-color: #008080; font-weight: bold\">0.0000</span>, <span style=\"color: #008080; text-decoration-color: #008080; font-weight: bold\">0.0000</span>, <span style=\"color: #008080; text-decoration-color: #008080; font-weight: bold\">0.0000</span>, <span style=\"color: #008080; text-decoration-color: #008080; font-weight: bold\">0.0000</span>, <span style=\"color: #008080; text-decoration-color: #008080; font-weight: bold\">0.0000</span>, <span style=\"color: #008080; text-decoration-color: #008080; font-weight: bold\">0.0000</span>, <span style=\"color: #008080; text-decoration-color: #008080; font-weight: bold\">0.0000</span>,\n",
       "        <span style=\"color: #008080; text-decoration-color: #008080; font-weight: bold\">0.0000</span>, <span style=\"color: #008080; text-decoration-color: #008080; font-weight: bold\">0.0000</span>, <span style=\"color: #008080; text-decoration-color: #008080; font-weight: bold\">0.0000</span>, <span style=\"color: #008080; text-decoration-color: #008080; font-weight: bold\">0.0000</span>, <span style=\"color: #008080; text-decoration-color: #008080; font-weight: bold\">0.0000</span>, <span style=\"color: #008080; text-decoration-color: #008080; font-weight: bold\">0.0000</span>, <span style=\"color: #008080; text-decoration-color: #008080; font-weight: bold\">0.0000</span>, <span style=\"color: #008080; text-decoration-color: #008080; font-weight: bold\">0.0000</span>, <span style=\"color: #008080; text-decoration-color: #008080; font-weight: bold\">0.0000</span>,\n",
       "        <span style=\"color: #008080; text-decoration-color: #008080; font-weight: bold\">0.0000</span>, <span style=\"color: #008080; text-decoration-color: #008080; font-weight: bold\">0.0000</span>, <span style=\"color: #008080; text-decoration-color: #008080; font-weight: bold\">0.1765</span>, <span style=\"color: #008080; text-decoration-color: #008080; font-weight: bold\">0.7294</span>, <span style=\"color: #008080; text-decoration-color: #008080; font-weight: bold\">0.9922</span>, <span style=\"color: #008080; text-decoration-color: #008080; font-weight: bold\">0.9922</span>, <span style=\"color: #008080; text-decoration-color: #008080; font-weight: bold\">0.5882</span>, <span style=\"color: #008080; text-decoration-color: #008080; font-weight: bold\">0.1059</span>, <span style=\"color: #008080; text-decoration-color: #008080; font-weight: bold\">0.0000</span>,\n",
       "        <span style=\"color: #008080; text-decoration-color: #008080; font-weight: bold\">0.0000</span>, <span style=\"color: #008080; text-decoration-color: #008080; font-weight: bold\">0.0000</span>, <span style=\"color: #008080; text-decoration-color: #008080; font-weight: bold\">0.0000</span>, <span style=\"color: #008080; text-decoration-color: #008080; font-weight: bold\">0.0000</span>, <span style=\"color: #008080; text-decoration-color: #008080; font-weight: bold\">0.0000</span>, <span style=\"color: #008080; text-decoration-color: #008080; font-weight: bold\">0.0000</span>, <span style=\"color: #008080; text-decoration-color: #008080; font-weight: bold\">0.0000</span>, <span style=\"color: #008080; text-decoration-color: #008080; font-weight: bold\">0.0000</span>, <span style=\"color: #008080; text-decoration-color: #008080; font-weight: bold\">0.0000</span>,\n",
       "        <span style=\"color: #008080; text-decoration-color: #008080; font-weight: bold\">0.0000</span>, <span style=\"color: #008080; text-decoration-color: #008080; font-weight: bold\">0.0000</span>, <span style=\"color: #008080; text-decoration-color: #008080; font-weight: bold\">0.0000</span>, <span style=\"color: #008080; text-decoration-color: #008080; font-weight: bold\">0.0000</span>, <span style=\"color: #008080; text-decoration-color: #008080; font-weight: bold\">0.0000</span>, <span style=\"color: #008080; text-decoration-color: #008080; font-weight: bold\">0.0000</span>, <span style=\"color: #008080; text-decoration-color: #008080; font-weight: bold\">0.0000</span>, <span style=\"color: #008080; text-decoration-color: #008080; font-weight: bold\">0.0000</span>, <span style=\"color: #008080; text-decoration-color: #008080; font-weight: bold\">0.0000</span>,\n",
       "        <span style=\"color: #008080; text-decoration-color: #008080; font-weight: bold\">0.0000</span>, <span style=\"color: #008080; text-decoration-color: #008080; font-weight: bold\">0.0000</span>, <span style=\"color: #008080; text-decoration-color: #008080; font-weight: bold\">0.0000</span>, <span style=\"color: #008080; text-decoration-color: #008080; font-weight: bold\">0.0000</span>, <span style=\"color: #008080; text-decoration-color: #008080; font-weight: bold\">0.0627</span>, <span style=\"color: #008080; text-decoration-color: #008080; font-weight: bold\">0.3647</span>, <span style=\"color: #008080; text-decoration-color: #008080; font-weight: bold\">0.9882</span>, <span style=\"color: #008080; text-decoration-color: #008080; font-weight: bold\">0.9922</span>, <span style=\"color: #008080; text-decoration-color: #008080; font-weight: bold\">0.7333</span>,\n",
       "        <span style=\"color: #008080; text-decoration-color: #008080; font-weight: bold\">0.0000</span>, <span style=\"color: #008080; text-decoration-color: #008080; font-weight: bold\">0.0000</span>, <span style=\"color: #008080; text-decoration-color: #008080; font-weight: bold\">0.0000</span>, <span style=\"color: #008080; text-decoration-color: #008080; font-weight: bold\">0.0000</span>, <span style=\"color: #008080; text-decoration-color: #008080; font-weight: bold\">0.0000</span>, <span style=\"color: #008080; text-decoration-color: #008080; font-weight: bold\">0.0000</span>, <span style=\"color: #008080; text-decoration-color: #008080; font-weight: bold\">0.0000</span>, <span style=\"color: #008080; text-decoration-color: #008080; font-weight: bold\">0.0000</span>, <span style=\"color: #008080; text-decoration-color: #008080; font-weight: bold\">0.0000</span>,\n",
       "        <span style=\"color: #008080; text-decoration-color: #008080; font-weight: bold\">0.0000</span>, <span style=\"color: #008080; text-decoration-color: #008080; font-weight: bold\">0.0000</span>, <span style=\"color: #008080; text-decoration-color: #008080; font-weight: bold\">0.0000</span>, <span style=\"color: #008080; text-decoration-color: #008080; font-weight: bold\">0.0000</span>, <span style=\"color: #008080; text-decoration-color: #008080; font-weight: bold\">0.0000</span>, <span style=\"color: #008080; text-decoration-color: #008080; font-weight: bold\">0.0000</span>, <span style=\"color: #008080; text-decoration-color: #008080; font-weight: bold\">0.0000</span>, <span style=\"color: #008080; text-decoration-color: #008080; font-weight: bold\">0.0000</span>, <span style=\"color: #008080; text-decoration-color: #008080; font-weight: bold\">0.0000</span>,\n",
       "        <span style=\"color: #008080; text-decoration-color: #008080; font-weight: bold\">0.0000</span>, <span style=\"color: #008080; text-decoration-color: #008080; font-weight: bold\">0.0000</span>, <span style=\"color: #008080; text-decoration-color: #008080; font-weight: bold\">0.0000</span>, <span style=\"color: #008080; text-decoration-color: #008080; font-weight: bold\">0.0000</span>, <span style=\"color: #008080; text-decoration-color: #008080; font-weight: bold\">0.0000</span>, <span style=\"color: #008080; text-decoration-color: #008080; font-weight: bold\">0.0000</span>, <span style=\"color: #008080; text-decoration-color: #008080; font-weight: bold\">0.0000</span>, <span style=\"color: #008080; text-decoration-color: #008080; font-weight: bold\">0.9765</span>, <span style=\"color: #008080; text-decoration-color: #008080; font-weight: bold\">0.9922</span>,\n",
       "        <span style=\"color: #008080; text-decoration-color: #008080; font-weight: bold\">0.9765</span>, <span style=\"color: #008080; text-decoration-color: #008080; font-weight: bold\">0.2510</span>, <span style=\"color: #008080; text-decoration-color: #008080; font-weight: bold\">0.0000</span>, <span style=\"color: #008080; text-decoration-color: #008080; font-weight: bold\">0.0000</span>, <span style=\"color: #008080; text-decoration-color: #008080; font-weight: bold\">0.0000</span>, <span style=\"color: #008080; text-decoration-color: #008080; font-weight: bold\">0.0000</span>, <span style=\"color: #008080; text-decoration-color: #008080; font-weight: bold\">0.0000</span>, <span style=\"color: #008080; text-decoration-color: #008080; font-weight: bold\">0.0000</span>, <span style=\"color: #008080; text-decoration-color: #008080; font-weight: bold\">0.0000</span>,\n",
       "        <span style=\"color: #008080; text-decoration-color: #008080; font-weight: bold\">0.0000</span>, <span style=\"color: #008080; text-decoration-color: #008080; font-weight: bold\">0.0000</span>, <span style=\"color: #008080; text-decoration-color: #008080; font-weight: bold\">0.0000</span>, <span style=\"color: #008080; text-decoration-color: #008080; font-weight: bold\">0.0000</span>, <span style=\"color: #008080; text-decoration-color: #008080; font-weight: bold\">0.0000</span>, <span style=\"color: #008080; text-decoration-color: #008080; font-weight: bold\">0.0000</span>, <span style=\"color: #008080; text-decoration-color: #008080; font-weight: bold\">0.0000</span>, <span style=\"color: #008080; text-decoration-color: #008080; font-weight: bold\">0.0000</span>, <span style=\"color: #008080; text-decoration-color: #008080; font-weight: bold\">0.0000</span>,\n",
       "        <span style=\"color: #008080; text-decoration-color: #008080; font-weight: bold\">0.0000</span>, <span style=\"color: #008080; text-decoration-color: #008080; font-weight: bold\">0.0000</span>, <span style=\"color: #008080; text-decoration-color: #008080; font-weight: bold\">0.0000</span>, <span style=\"color: #008080; text-decoration-color: #008080; font-weight: bold\">0.0000</span>, <span style=\"color: #008080; text-decoration-color: #008080; font-weight: bold\">0.0000</span>, <span style=\"color: #008080; text-decoration-color: #008080; font-weight: bold\">0.1804</span>, <span style=\"color: #008080; text-decoration-color: #008080; font-weight: bold\">0.5098</span>, <span style=\"color: #008080; text-decoration-color: #008080; font-weight: bold\">0.7176</span>, <span style=\"color: #008080; text-decoration-color: #008080; font-weight: bold\">0.9922</span>,\n",
       "        <span style=\"color: #008080; text-decoration-color: #008080; font-weight: bold\">0.9922</span>, <span style=\"color: #008080; text-decoration-color: #008080; font-weight: bold\">0.8118</span>, <span style=\"color: #008080; text-decoration-color: #008080; font-weight: bold\">0.0078</span>, <span style=\"color: #008080; text-decoration-color: #008080; font-weight: bold\">0.0000</span>, <span style=\"color: #008080; text-decoration-color: #008080; font-weight: bold\">0.0000</span>, <span style=\"color: #008080; text-decoration-color: #008080; font-weight: bold\">0.0000</span>, <span style=\"color: #008080; text-decoration-color: #008080; font-weight: bold\">0.0000</span>, <span style=\"color: #008080; text-decoration-color: #008080; font-weight: bold\">0.0000</span>, <span style=\"color: #008080; text-decoration-color: #008080; font-weight: bold\">0.0000</span>,\n",
       "        <span style=\"color: #008080; text-decoration-color: #008080; font-weight: bold\">0.0000</span>, <span style=\"color: #008080; text-decoration-color: #008080; font-weight: bold\">0.0000</span>, <span style=\"color: #008080; text-decoration-color: #008080; font-weight: bold\">0.0000</span>, <span style=\"color: #008080; text-decoration-color: #008080; font-weight: bold\">0.0000</span>, <span style=\"color: #008080; text-decoration-color: #008080; font-weight: bold\">0.0000</span>, <span style=\"color: #008080; text-decoration-color: #008080; font-weight: bold\">0.0000</span>, <span style=\"color: #008080; text-decoration-color: #008080; font-weight: bold\">0.0000</span>, <span style=\"color: #008080; text-decoration-color: #008080; font-weight: bold\">0.0000</span>, <span style=\"color: #008080; text-decoration-color: #008080; font-weight: bold\">0.0000</span>,\n",
       "        <span style=\"color: #008080; text-decoration-color: #008080; font-weight: bold\">0.0000</span>, <span style=\"color: #008080; text-decoration-color: #008080; font-weight: bold\">0.0000</span>, <span style=\"color: #008080; text-decoration-color: #008080; font-weight: bold\">0.0000</span>, <span style=\"color: #008080; text-decoration-color: #008080; font-weight: bold\">0.0000</span>, <span style=\"color: #008080; text-decoration-color: #008080; font-weight: bold\">0.1529</span>, <span style=\"color: #008080; text-decoration-color: #008080; font-weight: bold\">0.5804</span>, <span style=\"color: #008080; text-decoration-color: #008080; font-weight: bold\">0.8980</span>, <span style=\"color: #008080; text-decoration-color: #008080; font-weight: bold\">0.9922</span>, <span style=\"color: #008080; text-decoration-color: #008080; font-weight: bold\">0.9922</span>,\n",
       "        <span style=\"color: #008080; text-decoration-color: #008080; font-weight: bold\">0.9922</span>, <span style=\"color: #008080; text-decoration-color: #008080; font-weight: bold\">0.9804</span>, <span style=\"color: #008080; text-decoration-color: #008080; font-weight: bold\">0.7137</span>, <span style=\"color: #008080; text-decoration-color: #008080; font-weight: bold\">0.0000</span>, <span style=\"color: #008080; text-decoration-color: #008080; font-weight: bold\">0.0000</span>, <span style=\"color: #008080; text-decoration-color: #008080; font-weight: bold\">0.0000</span>, <span style=\"color: #008080; text-decoration-color: #008080; font-weight: bold\">0.0000</span>, <span style=\"color: #008080; text-decoration-color: #008080; font-weight: bold\">0.0000</span>, <span style=\"color: #008080; text-decoration-color: #008080; font-weight: bold\">0.0000</span>,\n",
       "        <span style=\"color: #008080; text-decoration-color: #008080; font-weight: bold\">0.0000</span>, <span style=\"color: #008080; text-decoration-color: #008080; font-weight: bold\">0.0000</span>, <span style=\"color: #008080; text-decoration-color: #008080; font-weight: bold\">0.0000</span>, <span style=\"color: #008080; text-decoration-color: #008080; font-weight: bold\">0.0000</span>, <span style=\"color: #008080; text-decoration-color: #008080; font-weight: bold\">0.0000</span>, <span style=\"color: #008080; text-decoration-color: #008080; font-weight: bold\">0.0000</span>, <span style=\"color: #008080; text-decoration-color: #008080; font-weight: bold\">0.0000</span>, <span style=\"color: #008080; text-decoration-color: #008080; font-weight: bold\">0.0000</span>, <span style=\"color: #008080; text-decoration-color: #008080; font-weight: bold\">0.0000</span>,\n",
       "        <span style=\"color: #008080; text-decoration-color: #008080; font-weight: bold\">0.0000</span>, <span style=\"color: #008080; text-decoration-color: #008080; font-weight: bold\">0.0000</span>, <span style=\"color: #008080; text-decoration-color: #008080; font-weight: bold\">0.0000</span>, <span style=\"color: #008080; text-decoration-color: #008080; font-weight: bold\">0.0941</span>, <span style=\"color: #008080; text-decoration-color: #008080; font-weight: bold\">0.4471</span>, <span style=\"color: #008080; text-decoration-color: #008080; font-weight: bold\">0.8667</span>, <span style=\"color: #008080; text-decoration-color: #008080; font-weight: bold\">0.9922</span>, <span style=\"color: #008080; text-decoration-color: #008080; font-weight: bold\">0.9922</span>, <span style=\"color: #008080; text-decoration-color: #008080; font-weight: bold\">0.9922</span>,\n",
       "        <span style=\"color: #008080; text-decoration-color: #008080; font-weight: bold\">0.9922</span>, <span style=\"color: #008080; text-decoration-color: #008080; font-weight: bold\">0.7882</span>, <span style=\"color: #008080; text-decoration-color: #008080; font-weight: bold\">0.3059</span>, <span style=\"color: #008080; text-decoration-color: #008080; font-weight: bold\">0.0000</span>, <span style=\"color: #008080; text-decoration-color: #008080; font-weight: bold\">0.0000</span>, <span style=\"color: #008080; text-decoration-color: #008080; font-weight: bold\">0.0000</span>, <span style=\"color: #008080; text-decoration-color: #008080; font-weight: bold\">0.0000</span>, <span style=\"color: #008080; text-decoration-color: #008080; font-weight: bold\">0.0000</span>, <span style=\"color: #008080; text-decoration-color: #008080; font-weight: bold\">0.0000</span>,\n",
       "        <span style=\"color: #008080; text-decoration-color: #008080; font-weight: bold\">0.0000</span>, <span style=\"color: #008080; text-decoration-color: #008080; font-weight: bold\">0.0000</span>, <span style=\"color: #008080; text-decoration-color: #008080; font-weight: bold\">0.0000</span>, <span style=\"color: #008080; text-decoration-color: #008080; font-weight: bold\">0.0000</span>, <span style=\"color: #008080; text-decoration-color: #008080; font-weight: bold\">0.0000</span>, <span style=\"color: #008080; text-decoration-color: #008080; font-weight: bold\">0.0000</span>, <span style=\"color: #008080; text-decoration-color: #008080; font-weight: bold\">0.0000</span>, <span style=\"color: #008080; text-decoration-color: #008080; font-weight: bold\">0.0000</span>, <span style=\"color: #008080; text-decoration-color: #008080; font-weight: bold\">0.0000</span>,\n",
       "        <span style=\"color: #008080; text-decoration-color: #008080; font-weight: bold\">0.0000</span>, <span style=\"color: #008080; text-decoration-color: #008080; font-weight: bold\">0.0000</span>, <span style=\"color: #008080; text-decoration-color: #008080; font-weight: bold\">0.0902</span>, <span style=\"color: #008080; text-decoration-color: #008080; font-weight: bold\">0.2588</span>, <span style=\"color: #008080; text-decoration-color: #008080; font-weight: bold\">0.8353</span>, <span style=\"color: #008080; text-decoration-color: #008080; font-weight: bold\">0.9922</span>, <span style=\"color: #008080; text-decoration-color: #008080; font-weight: bold\">0.9922</span>, <span style=\"color: #008080; text-decoration-color: #008080; font-weight: bold\">0.9922</span>, <span style=\"color: #008080; text-decoration-color: #008080; font-weight: bold\">0.9922</span>,\n",
       "        <span style=\"color: #008080; text-decoration-color: #008080; font-weight: bold\">0.7765</span>, <span style=\"color: #008080; text-decoration-color: #008080; font-weight: bold\">0.3176</span>, <span style=\"color: #008080; text-decoration-color: #008080; font-weight: bold\">0.0078</span>, <span style=\"color: #008080; text-decoration-color: #008080; font-weight: bold\">0.0000</span>, <span style=\"color: #008080; text-decoration-color: #008080; font-weight: bold\">0.0000</span>, <span style=\"color: #008080; text-decoration-color: #008080; font-weight: bold\">0.0000</span>, <span style=\"color: #008080; text-decoration-color: #008080; font-weight: bold\">0.0000</span>, <span style=\"color: #008080; text-decoration-color: #008080; font-weight: bold\">0.0000</span>, <span style=\"color: #008080; text-decoration-color: #008080; font-weight: bold\">0.0000</span>,\n",
       "        <span style=\"color: #008080; text-decoration-color: #008080; font-weight: bold\">0.0000</span>, <span style=\"color: #008080; text-decoration-color: #008080; font-weight: bold\">0.0000</span>, <span style=\"color: #008080; text-decoration-color: #008080; font-weight: bold\">0.0000</span>, <span style=\"color: #008080; text-decoration-color: #008080; font-weight: bold\">0.0000</span>, <span style=\"color: #008080; text-decoration-color: #008080; font-weight: bold\">0.0000</span>, <span style=\"color: #008080; text-decoration-color: #008080; font-weight: bold\">0.0000</span>, <span style=\"color: #008080; text-decoration-color: #008080; font-weight: bold\">0.0000</span>, <span style=\"color: #008080; text-decoration-color: #008080; font-weight: bold\">0.0000</span>, <span style=\"color: #008080; text-decoration-color: #008080; font-weight: bold\">0.0000</span>,\n",
       "        <span style=\"color: #008080; text-decoration-color: #008080; font-weight: bold\">0.0000</span>, <span style=\"color: #008080; text-decoration-color: #008080; font-weight: bold\">0.0706</span>, <span style=\"color: #008080; text-decoration-color: #008080; font-weight: bold\">0.6706</span>, <span style=\"color: #008080; text-decoration-color: #008080; font-weight: bold\">0.8588</span>, <span style=\"color: #008080; text-decoration-color: #008080; font-weight: bold\">0.9922</span>, <span style=\"color: #008080; text-decoration-color: #008080; font-weight: bold\">0.9922</span>, <span style=\"color: #008080; text-decoration-color: #008080; font-weight: bold\">0.9922</span>, <span style=\"color: #008080; text-decoration-color: #008080; font-weight: bold\">0.9922</span>, <span style=\"color: #008080; text-decoration-color: #008080; font-weight: bold\">0.7647</span>,\n",
       "        <span style=\"color: #008080; text-decoration-color: #008080; font-weight: bold\">0.3137</span>, <span style=\"color: #008080; text-decoration-color: #008080; font-weight: bold\">0.0353</span>, <span style=\"color: #008080; text-decoration-color: #008080; font-weight: bold\">0.0000</span>, <span style=\"color: #008080; text-decoration-color: #008080; font-weight: bold\">0.0000</span>, <span style=\"color: #008080; text-decoration-color: #008080; font-weight: bold\">0.0000</span>, <span style=\"color: #008080; text-decoration-color: #008080; font-weight: bold\">0.0000</span>, <span style=\"color: #008080; text-decoration-color: #008080; font-weight: bold\">0.0000</span>, <span style=\"color: #008080; text-decoration-color: #008080; font-weight: bold\">0.0000</span>, <span style=\"color: #008080; text-decoration-color: #008080; font-weight: bold\">0.0000</span>,\n",
       "        <span style=\"color: #008080; text-decoration-color: #008080; font-weight: bold\">0.0000</span>, <span style=\"color: #008080; text-decoration-color: #008080; font-weight: bold\">0.0000</span>, <span style=\"color: #008080; text-decoration-color: #008080; font-weight: bold\">0.0000</span>, <span style=\"color: #008080; text-decoration-color: #008080; font-weight: bold\">0.0000</span>, <span style=\"color: #008080; text-decoration-color: #008080; font-weight: bold\">0.0000</span>, <span style=\"color: #008080; text-decoration-color: #008080; font-weight: bold\">0.0000</span>, <span style=\"color: #008080; text-decoration-color: #008080; font-weight: bold\">0.0000</span>, <span style=\"color: #008080; text-decoration-color: #008080; font-weight: bold\">0.0000</span>, <span style=\"color: #008080; text-decoration-color: #008080; font-weight: bold\">0.0000</span>,\n",
       "        <span style=\"color: #008080; text-decoration-color: #008080; font-weight: bold\">0.2157</span>, <span style=\"color: #008080; text-decoration-color: #008080; font-weight: bold\">0.6745</span>, <span style=\"color: #008080; text-decoration-color: #008080; font-weight: bold\">0.8863</span>, <span style=\"color: #008080; text-decoration-color: #008080; font-weight: bold\">0.9922</span>, <span style=\"color: #008080; text-decoration-color: #008080; font-weight: bold\">0.9922</span>, <span style=\"color: #008080; text-decoration-color: #008080; font-weight: bold\">0.9922</span>, <span style=\"color: #008080; text-decoration-color: #008080; font-weight: bold\">0.9922</span>, <span style=\"color: #008080; text-decoration-color: #008080; font-weight: bold\">0.9569</span>, <span style=\"color: #008080; text-decoration-color: #008080; font-weight: bold\">0.5216</span>,\n",
       "        <span style=\"color: #008080; text-decoration-color: #008080; font-weight: bold\">0.0431</span>, <span style=\"color: #008080; text-decoration-color: #008080; font-weight: bold\">0.0000</span>, <span style=\"color: #008080; text-decoration-color: #008080; font-weight: bold\">0.0000</span>, <span style=\"color: #008080; text-decoration-color: #008080; font-weight: bold\">0.0000</span>, <span style=\"color: #008080; text-decoration-color: #008080; font-weight: bold\">0.0000</span>, <span style=\"color: #008080; text-decoration-color: #008080; font-weight: bold\">0.0000</span>, <span style=\"color: #008080; text-decoration-color: #008080; font-weight: bold\">0.0000</span>, <span style=\"color: #008080; text-decoration-color: #008080; font-weight: bold\">0.0000</span>, <span style=\"color: #008080; text-decoration-color: #008080; font-weight: bold\">0.0000</span>,\n",
       "        <span style=\"color: #008080; text-decoration-color: #008080; font-weight: bold\">0.0000</span>, <span style=\"color: #008080; text-decoration-color: #008080; font-weight: bold\">0.0000</span>, <span style=\"color: #008080; text-decoration-color: #008080; font-weight: bold\">0.0000</span>, <span style=\"color: #008080; text-decoration-color: #008080; font-weight: bold\">0.0000</span>, <span style=\"color: #008080; text-decoration-color: #008080; font-weight: bold\">0.0000</span>, <span style=\"color: #008080; text-decoration-color: #008080; font-weight: bold\">0.0000</span>, <span style=\"color: #008080; text-decoration-color: #008080; font-weight: bold\">0.0000</span>, <span style=\"color: #008080; text-decoration-color: #008080; font-weight: bold\">0.0000</span>, <span style=\"color: #008080; text-decoration-color: #008080; font-weight: bold\">0.0000</span>,\n",
       "        <span style=\"color: #008080; text-decoration-color: #008080; font-weight: bold\">0.0000</span>, <span style=\"color: #008080; text-decoration-color: #008080; font-weight: bold\">0.5333</span>, <span style=\"color: #008080; text-decoration-color: #008080; font-weight: bold\">0.9922</span>, <span style=\"color: #008080; text-decoration-color: #008080; font-weight: bold\">0.9922</span>, <span style=\"color: #008080; text-decoration-color: #008080; font-weight: bold\">0.9922</span>, <span style=\"color: #008080; text-decoration-color: #008080; font-weight: bold\">0.8314</span>, <span style=\"color: #008080; text-decoration-color: #008080; font-weight: bold\">0.5294</span>, <span style=\"color: #008080; text-decoration-color: #008080; font-weight: bold\">0.5176</span>, <span style=\"color: #008080; text-decoration-color: #008080; font-weight: bold\">0.0627</span>,\n",
       "        <span style=\"color: #008080; text-decoration-color: #008080; font-weight: bold\">0.0000</span>, <span style=\"color: #008080; text-decoration-color: #008080; font-weight: bold\">0.0000</span>, <span style=\"color: #008080; text-decoration-color: #008080; font-weight: bold\">0.0000</span>, <span style=\"color: #008080; text-decoration-color: #008080; font-weight: bold\">0.0000</span>, <span style=\"color: #008080; text-decoration-color: #008080; font-weight: bold\">0.0000</span>, <span style=\"color: #008080; text-decoration-color: #008080; font-weight: bold\">0.0000</span>, <span style=\"color: #008080; text-decoration-color: #008080; font-weight: bold\">0.0000</span>, <span style=\"color: #008080; text-decoration-color: #008080; font-weight: bold\">0.0000</span>, <span style=\"color: #008080; text-decoration-color: #008080; font-weight: bold\">0.0000</span>,\n",
       "        <span style=\"color: #008080; text-decoration-color: #008080; font-weight: bold\">0.0000</span>, <span style=\"color: #008080; text-decoration-color: #008080; font-weight: bold\">0.0000</span>, <span style=\"color: #008080; text-decoration-color: #008080; font-weight: bold\">0.0000</span>, <span style=\"color: #008080; text-decoration-color: #008080; font-weight: bold\">0.0000</span>, <span style=\"color: #008080; text-decoration-color: #008080; font-weight: bold\">0.0000</span>, <span style=\"color: #008080; text-decoration-color: #008080; font-weight: bold\">0.0000</span>, <span style=\"color: #008080; text-decoration-color: #008080; font-weight: bold\">0.0000</span>, <span style=\"color: #008080; text-decoration-color: #008080; font-weight: bold\">0.0000</span>, <span style=\"color: #008080; text-decoration-color: #008080; font-weight: bold\">0.0000</span>,\n",
       "        <span style=\"color: #008080; text-decoration-color: #008080; font-weight: bold\">0.0000</span>, <span style=\"color: #008080; text-decoration-color: #008080; font-weight: bold\">0.0000</span>, <span style=\"color: #008080; text-decoration-color: #008080; font-weight: bold\">0.0000</span>, <span style=\"color: #008080; text-decoration-color: #008080; font-weight: bold\">0.0000</span>, <span style=\"color: #008080; text-decoration-color: #008080; font-weight: bold\">0.0000</span>, <span style=\"color: #008080; text-decoration-color: #008080; font-weight: bold\">0.0000</span>, <span style=\"color: #008080; text-decoration-color: #008080; font-weight: bold\">0.0000</span>, <span style=\"color: #008080; text-decoration-color: #008080; font-weight: bold\">0.0000</span>, <span style=\"color: #008080; text-decoration-color: #008080; font-weight: bold\">0.0000</span>,\n",
       "        <span style=\"color: #008080; text-decoration-color: #008080; font-weight: bold\">0.0000</span>, <span style=\"color: #008080; text-decoration-color: #008080; font-weight: bold\">0.0000</span>, <span style=\"color: #008080; text-decoration-color: #008080; font-weight: bold\">0.0000</span>, <span style=\"color: #008080; text-decoration-color: #008080; font-weight: bold\">0.0000</span>, <span style=\"color: #008080; text-decoration-color: #008080; font-weight: bold\">0.0000</span>, <span style=\"color: #008080; text-decoration-color: #008080; font-weight: bold\">0.0000</span>, <span style=\"color: #008080; text-decoration-color: #008080; font-weight: bold\">0.0000</span>, <span style=\"color: #008080; text-decoration-color: #008080; font-weight: bold\">0.0000</span>, <span style=\"color: #008080; text-decoration-color: #008080; font-weight: bold\">0.0000</span>,\n",
       "        <span style=\"color: #008080; text-decoration-color: #008080; font-weight: bold\">0.0000</span>, <span style=\"color: #008080; text-decoration-color: #008080; font-weight: bold\">0.0000</span>, <span style=\"color: #008080; text-decoration-color: #008080; font-weight: bold\">0.0000</span>, <span style=\"color: #008080; text-decoration-color: #008080; font-weight: bold\">0.0000</span>, <span style=\"color: #008080; text-decoration-color: #008080; font-weight: bold\">0.0000</span>, <span style=\"color: #008080; text-decoration-color: #008080; font-weight: bold\">0.0000</span>, <span style=\"color: #008080; text-decoration-color: #008080; font-weight: bold\">0.0000</span>, <span style=\"color: #008080; text-decoration-color: #008080; font-weight: bold\">0.0000</span>, <span style=\"color: #008080; text-decoration-color: #008080; font-weight: bold\">0.0000</span>,\n",
       "        <span style=\"color: #008080; text-decoration-color: #008080; font-weight: bold\">0.0000</span>, <span style=\"color: #008080; text-decoration-color: #008080; font-weight: bold\">0.0000</span>, <span style=\"color: #008080; text-decoration-color: #008080; font-weight: bold\">0.0000</span>, <span style=\"color: #008080; text-decoration-color: #008080; font-weight: bold\">0.0000</span>, <span style=\"color: #008080; text-decoration-color: #008080; font-weight: bold\">0.0000</span>, <span style=\"color: #008080; text-decoration-color: #008080; font-weight: bold\">0.0000</span>, <span style=\"color: #008080; text-decoration-color: #008080; font-weight: bold\">0.0000</span>, <span style=\"color: #008080; text-decoration-color: #008080; font-weight: bold\">0.0000</span>, <span style=\"color: #008080; text-decoration-color: #008080; font-weight: bold\">0.0000</span>,\n",
       "        <span style=\"color: #008080; text-decoration-color: #008080; font-weight: bold\">0.0000</span>, <span style=\"color: #008080; text-decoration-color: #008080; font-weight: bold\">0.0000</span>, <span style=\"color: #008080; text-decoration-color: #008080; font-weight: bold\">0.0000</span>, <span style=\"color: #008080; text-decoration-color: #008080; font-weight: bold\">0.0000</span>, <span style=\"color: #008080; text-decoration-color: #008080; font-weight: bold\">0.0000</span>, <span style=\"color: #008080; text-decoration-color: #008080; font-weight: bold\">0.0000</span>, <span style=\"color: #008080; text-decoration-color: #008080; font-weight: bold\">0.0000</span>, <span style=\"color: #008080; text-decoration-color: #008080; font-weight: bold\">0.0000</span>, <span style=\"color: #008080; text-decoration-color: #008080; font-weight: bold\">0.0000</span>,\n",
       "        <span style=\"color: #008080; text-decoration-color: #008080; font-weight: bold\">0.0000</span>, <span style=\"color: #008080; text-decoration-color: #008080; font-weight: bold\">0.0000</span>, <span style=\"color: #008080; text-decoration-color: #008080; font-weight: bold\">0.0000</span>, <span style=\"color: #008080; text-decoration-color: #008080; font-weight: bold\">0.0000</span>, <span style=\"color: #008080; text-decoration-color: #008080; font-weight: bold\">0.0000</span>, <span style=\"color: #008080; text-decoration-color: #008080; font-weight: bold\">0.0000</span>, <span style=\"color: #008080; text-decoration-color: #008080; font-weight: bold\">0.0000</span>, <span style=\"color: #008080; text-decoration-color: #008080; font-weight: bold\">0.0000</span>, <span style=\"color: #008080; text-decoration-color: #008080; font-weight: bold\">0.0000</span>,\n",
       "        <span style=\"color: #008080; text-decoration-color: #008080; font-weight: bold\">0.0000</span>, <span style=\"color: #008080; text-decoration-color: #008080; font-weight: bold\">0.0000</span>, <span style=\"color: #008080; text-decoration-color: #008080; font-weight: bold\">0.0000</span>, <span style=\"color: #008080; text-decoration-color: #008080; font-weight: bold\">0.0000</span>, <span style=\"color: #008080; text-decoration-color: #008080; font-weight: bold\">0.0000</span>, <span style=\"color: #008080; text-decoration-color: #008080; font-weight: bold\">0.0000</span>, <span style=\"color: #008080; text-decoration-color: #008080; font-weight: bold\">0.0000</span>, <span style=\"color: #008080; text-decoration-color: #008080; font-weight: bold\">0.0000</span>, <span style=\"color: #008080; text-decoration-color: #008080; font-weight: bold\">0.0000</span>,\n",
       "        <span style=\"color: #008080; text-decoration-color: #008080; font-weight: bold\">0.0000</span>, <span style=\"color: #008080; text-decoration-color: #008080; font-weight: bold\">0.0000</span>, <span style=\"color: #008080; text-decoration-color: #008080; font-weight: bold\">0.0000</span>, <span style=\"color: #008080; text-decoration-color: #008080; font-weight: bold\">0.0000</span>, <span style=\"color: #008080; text-decoration-color: #008080; font-weight: bold\">0.0000</span>, <span style=\"color: #008080; text-decoration-color: #008080; font-weight: bold\">0.0000</span>, <span style=\"color: #008080; text-decoration-color: #008080; font-weight: bold\">0.0000</span>, <span style=\"color: #008080; text-decoration-color: #008080; font-weight: bold\">0.0000</span>, <span style=\"color: #008080; text-decoration-color: #008080; font-weight: bold\">0.0000</span>,\n",
       "        <span style=\"color: #008080; text-decoration-color: #008080; font-weight: bold\">0.0000</span>, <span style=\"color: #008080; text-decoration-color: #008080; font-weight: bold\">0.0000</span>, <span style=\"color: #008080; text-decoration-color: #008080; font-weight: bold\">0.0000</span>, <span style=\"color: #008080; text-decoration-color: #008080; font-weight: bold\">0.0000</span>, <span style=\"color: #008080; text-decoration-color: #008080; font-weight: bold\">0.0000</span>, <span style=\"color: #008080; text-decoration-color: #008080; font-weight: bold\">0.0000</span>, <span style=\"color: #008080; text-decoration-color: #008080; font-weight: bold\">0.0000</span>, <span style=\"color: #008080; text-decoration-color: #008080; font-weight: bold\">0.0000</span>, <span style=\"color: #008080; text-decoration-color: #008080; font-weight: bold\">0.0000</span>,\n",
       "        <span style=\"color: #008080; text-decoration-color: #008080; font-weight: bold\">0.0000</span><span style=\"font-weight: bold\">])</span>\n",
       "</pre>\n"
      ],
      "text/plain": [
       "image: \u001b[1;35mtensor\u001b[0m\u001b[1m(\u001b[0m\u001b[1m[\u001b[0m\u001b[1;36m0.0000\u001b[0m, \u001b[1;36m0.0000\u001b[0m, \u001b[1;36m0.0000\u001b[0m, \u001b[1;36m0.0000\u001b[0m, \u001b[1;36m0.0000\u001b[0m, \u001b[1;36m0.0000\u001b[0m, \u001b[1;36m0.0000\u001b[0m, \u001b[1;36m0.0000\u001b[0m, \u001b[1;36m0.0000\u001b[0m,\n",
       "        \u001b[1;36m0.0000\u001b[0m, \u001b[1;36m0.0000\u001b[0m, \u001b[1;36m0.0000\u001b[0m, \u001b[1;36m0.0000\u001b[0m, \u001b[1;36m0.0000\u001b[0m, \u001b[1;36m0.0000\u001b[0m, \u001b[1;36m0.0000\u001b[0m, \u001b[1;36m0.0000\u001b[0m, \u001b[1;36m0.0000\u001b[0m,\n",
       "        \u001b[1;36m0.0000\u001b[0m, \u001b[1;36m0.0000\u001b[0m, \u001b[1;36m0.0000\u001b[0m, \u001b[1;36m0.0000\u001b[0m, \u001b[1;36m0.0000\u001b[0m, \u001b[1;36m0.0000\u001b[0m, \u001b[1;36m0.0000\u001b[0m, \u001b[1;36m0.0000\u001b[0m, \u001b[1;36m0.0000\u001b[0m,\n",
       "        \u001b[1;36m0.0000\u001b[0m, \u001b[1;36m0.0000\u001b[0m, \u001b[1;36m0.0000\u001b[0m, \u001b[1;36m0.0000\u001b[0m, \u001b[1;36m0.0000\u001b[0m, \u001b[1;36m0.0000\u001b[0m, \u001b[1;36m0.0000\u001b[0m, \u001b[1;36m0.0000\u001b[0m, \u001b[1;36m0.0000\u001b[0m,\n",
       "        \u001b[1;36m0.0000\u001b[0m, \u001b[1;36m0.0000\u001b[0m, \u001b[1;36m0.0000\u001b[0m, \u001b[1;36m0.0000\u001b[0m, \u001b[1;36m0.0000\u001b[0m, \u001b[1;36m0.0000\u001b[0m, \u001b[1;36m0.0000\u001b[0m, \u001b[1;36m0.0000\u001b[0m, \u001b[1;36m0.0000\u001b[0m,\n",
       "        \u001b[1;36m0.0000\u001b[0m, \u001b[1;36m0.0000\u001b[0m, \u001b[1;36m0.0000\u001b[0m, \u001b[1;36m0.0000\u001b[0m, \u001b[1;36m0.0000\u001b[0m, \u001b[1;36m0.0000\u001b[0m, \u001b[1;36m0.0000\u001b[0m, \u001b[1;36m0.0000\u001b[0m, \u001b[1;36m0.0000\u001b[0m,\n",
       "        \u001b[1;36m0.0000\u001b[0m, \u001b[1;36m0.0000\u001b[0m, \u001b[1;36m0.0000\u001b[0m, \u001b[1;36m0.0000\u001b[0m, \u001b[1;36m0.0000\u001b[0m, \u001b[1;36m0.0000\u001b[0m, \u001b[1;36m0.0000\u001b[0m, \u001b[1;36m0.0000\u001b[0m, \u001b[1;36m0.0000\u001b[0m,\n",
       "        \u001b[1;36m0.0000\u001b[0m, \u001b[1;36m0.0000\u001b[0m, \u001b[1;36m0.0000\u001b[0m, \u001b[1;36m0.0000\u001b[0m, \u001b[1;36m0.0000\u001b[0m, \u001b[1;36m0.0000\u001b[0m, \u001b[1;36m0.0000\u001b[0m, \u001b[1;36m0.0000\u001b[0m, \u001b[1;36m0.0000\u001b[0m,\n",
       "        \u001b[1;36m0.0000\u001b[0m, \u001b[1;36m0.0000\u001b[0m, \u001b[1;36m0.0000\u001b[0m, \u001b[1;36m0.0000\u001b[0m, \u001b[1;36m0.0000\u001b[0m, \u001b[1;36m0.0000\u001b[0m, \u001b[1;36m0.0000\u001b[0m, \u001b[1;36m0.0000\u001b[0m, \u001b[1;36m0.0000\u001b[0m,\n",
       "        \u001b[1;36m0.0000\u001b[0m, \u001b[1;36m0.0000\u001b[0m, \u001b[1;36m0.0000\u001b[0m, \u001b[1;36m0.0000\u001b[0m, \u001b[1;36m0.0000\u001b[0m, \u001b[1;36m0.0000\u001b[0m, \u001b[1;36m0.0000\u001b[0m, \u001b[1;36m0.0000\u001b[0m, \u001b[1;36m0.0000\u001b[0m,\n",
       "        \u001b[1;36m0.0000\u001b[0m, \u001b[1;36m0.0000\u001b[0m, \u001b[1;36m0.0000\u001b[0m, \u001b[1;36m0.0000\u001b[0m, \u001b[1;36m0.0000\u001b[0m, \u001b[1;36m0.0000\u001b[0m, \u001b[1;36m0.0000\u001b[0m, \u001b[1;36m0.0000\u001b[0m, \u001b[1;36m0.0000\u001b[0m,\n",
       "        \u001b[1;36m0.0000\u001b[0m, \u001b[1;36m0.0000\u001b[0m, \u001b[1;36m0.0000\u001b[0m, \u001b[1;36m0.0000\u001b[0m, \u001b[1;36m0.0000\u001b[0m, \u001b[1;36m0.0000\u001b[0m, \u001b[1;36m0.0000\u001b[0m, \u001b[1;36m0.0000\u001b[0m, \u001b[1;36m0.0000\u001b[0m,\n",
       "        \u001b[1;36m0.0000\u001b[0m, \u001b[1;36m0.0000\u001b[0m, \u001b[1;36m0.0000\u001b[0m, \u001b[1;36m0.0000\u001b[0m, \u001b[1;36m0.0000\u001b[0m, \u001b[1;36m0.0000\u001b[0m, \u001b[1;36m0.0000\u001b[0m, \u001b[1;36m0.0000\u001b[0m, \u001b[1;36m0.0000\u001b[0m,\n",
       "        \u001b[1;36m0.0000\u001b[0m, \u001b[1;36m0.0000\u001b[0m, \u001b[1;36m0.0000\u001b[0m, \u001b[1;36m0.0000\u001b[0m, \u001b[1;36m0.0000\u001b[0m, \u001b[1;36m0.0000\u001b[0m, \u001b[1;36m0.0000\u001b[0m, \u001b[1;36m0.0000\u001b[0m, \u001b[1;36m0.0000\u001b[0m,\n",
       "        \u001b[1;36m0.0000\u001b[0m, \u001b[1;36m0.0000\u001b[0m, \u001b[1;36m0.0000\u001b[0m, \u001b[1;36m0.0000\u001b[0m, \u001b[1;36m0.0000\u001b[0m, \u001b[1;36m0.0000\u001b[0m, \u001b[1;36m0.0000\u001b[0m, \u001b[1;36m0.0000\u001b[0m, \u001b[1;36m0.0000\u001b[0m,\n",
       "        \u001b[1;36m0.0000\u001b[0m, \u001b[1;36m0.0000\u001b[0m, \u001b[1;36m0.0000\u001b[0m, \u001b[1;36m0.0000\u001b[0m, \u001b[1;36m0.0000\u001b[0m, \u001b[1;36m0.0000\u001b[0m, \u001b[1;36m0.0000\u001b[0m, \u001b[1;36m0.0000\u001b[0m, \u001b[1;36m0.0000\u001b[0m,\n",
       "        \u001b[1;36m0.0000\u001b[0m, \u001b[1;36m0.0000\u001b[0m, \u001b[1;36m0.0000\u001b[0m, \u001b[1;36m0.0000\u001b[0m, \u001b[1;36m0.0000\u001b[0m, \u001b[1;36m0.0000\u001b[0m, \u001b[1;36m0.0000\u001b[0m, \u001b[1;36m0.0000\u001b[0m, \u001b[1;36m0.0118\u001b[0m,\n",
       "        \u001b[1;36m0.0706\u001b[0m, \u001b[1;36m0.0706\u001b[0m, \u001b[1;36m0.0706\u001b[0m, \u001b[1;36m0.4941\u001b[0m, \u001b[1;36m0.5333\u001b[0m, \u001b[1;36m0.6863\u001b[0m, \u001b[1;36m0.1020\u001b[0m, \u001b[1;36m0.6510\u001b[0m, \u001b[1;36m1.0000\u001b[0m,\n",
       "        \u001b[1;36m0.9686\u001b[0m, \u001b[1;36m0.4980\u001b[0m, \u001b[1;36m0.0000\u001b[0m, \u001b[1;36m0.0000\u001b[0m, \u001b[1;36m0.0000\u001b[0m, \u001b[1;36m0.0000\u001b[0m, \u001b[1;36m0.0000\u001b[0m, \u001b[1;36m0.0000\u001b[0m, \u001b[1;36m0.0000\u001b[0m,\n",
       "        \u001b[1;36m0.0000\u001b[0m, \u001b[1;36m0.0000\u001b[0m, \u001b[1;36m0.0000\u001b[0m, \u001b[1;36m0.0000\u001b[0m, \u001b[1;36m0.0000\u001b[0m, \u001b[1;36m0.1176\u001b[0m, \u001b[1;36m0.1412\u001b[0m, \u001b[1;36m0.3686\u001b[0m, \u001b[1;36m0.6039\u001b[0m,\n",
       "        \u001b[1;36m0.6667\u001b[0m, \u001b[1;36m0.9922\u001b[0m, \u001b[1;36m0.9922\u001b[0m, \u001b[1;36m0.9922\u001b[0m, \u001b[1;36m0.9922\u001b[0m, \u001b[1;36m0.9922\u001b[0m, \u001b[1;36m0.8824\u001b[0m, \u001b[1;36m0.6745\u001b[0m, \u001b[1;36m0.9922\u001b[0m,\n",
       "        \u001b[1;36m0.9490\u001b[0m, \u001b[1;36m0.7647\u001b[0m, \u001b[1;36m0.2510\u001b[0m, \u001b[1;36m0.0000\u001b[0m, \u001b[1;36m0.0000\u001b[0m, \u001b[1;36m0.0000\u001b[0m, \u001b[1;36m0.0000\u001b[0m, \u001b[1;36m0.0000\u001b[0m, \u001b[1;36m0.0000\u001b[0m,\n",
       "        \u001b[1;36m0.0000\u001b[0m, \u001b[1;36m0.0000\u001b[0m, \u001b[1;36m0.0000\u001b[0m, \u001b[1;36m0.0000\u001b[0m, \u001b[1;36m0.0000\u001b[0m, \u001b[1;36m0.1922\u001b[0m, \u001b[1;36m0.9333\u001b[0m, \u001b[1;36m0.9922\u001b[0m, \u001b[1;36m0.9922\u001b[0m,\n",
       "        \u001b[1;36m0.9922\u001b[0m, \u001b[1;36m0.9922\u001b[0m, \u001b[1;36m0.9922\u001b[0m, \u001b[1;36m0.9922\u001b[0m, \u001b[1;36m0.9922\u001b[0m, \u001b[1;36m0.9922\u001b[0m, \u001b[1;36m0.9843\u001b[0m, \u001b[1;36m0.3647\u001b[0m, \u001b[1;36m0.3216\u001b[0m,\n",
       "        \u001b[1;36m0.3216\u001b[0m, \u001b[1;36m0.2196\u001b[0m, \u001b[1;36m0.1529\u001b[0m, \u001b[1;36m0.0000\u001b[0m, \u001b[1;36m0.0000\u001b[0m, \u001b[1;36m0.0000\u001b[0m, \u001b[1;36m0.0000\u001b[0m, \u001b[1;36m0.0000\u001b[0m, \u001b[1;36m0.0000\u001b[0m,\n",
       "        \u001b[1;36m0.0000\u001b[0m, \u001b[1;36m0.0000\u001b[0m, \u001b[1;36m0.0000\u001b[0m, \u001b[1;36m0.0000\u001b[0m, \u001b[1;36m0.0000\u001b[0m, \u001b[1;36m0.0000\u001b[0m, \u001b[1;36m0.0706\u001b[0m, \u001b[1;36m0.8588\u001b[0m, \u001b[1;36m0.9922\u001b[0m,\n",
       "        \u001b[1;36m0.9922\u001b[0m, \u001b[1;36m0.9922\u001b[0m, \u001b[1;36m0.9922\u001b[0m, \u001b[1;36m0.9922\u001b[0m, \u001b[1;36m0.7765\u001b[0m, \u001b[1;36m0.7137\u001b[0m, \u001b[1;36m0.9686\u001b[0m, \u001b[1;36m0.9451\u001b[0m, \u001b[1;36m0.0000\u001b[0m,\n",
       "        \u001b[1;36m0.0000\u001b[0m, \u001b[1;36m0.0000\u001b[0m, \u001b[1;36m0.0000\u001b[0m, \u001b[1;36m0.0000\u001b[0m, \u001b[1;36m0.0000\u001b[0m, \u001b[1;36m0.0000\u001b[0m, \u001b[1;36m0.0000\u001b[0m, \u001b[1;36m0.0000\u001b[0m, \u001b[1;36m0.0000\u001b[0m,\n",
       "        \u001b[1;36m0.0000\u001b[0m, \u001b[1;36m0.0000\u001b[0m, \u001b[1;36m0.0000\u001b[0m, \u001b[1;36m0.0000\u001b[0m, \u001b[1;36m0.0000\u001b[0m, \u001b[1;36m0.0000\u001b[0m, \u001b[1;36m0.0000\u001b[0m, \u001b[1;36m0.0000\u001b[0m, \u001b[1;36m0.3137\u001b[0m,\n",
       "        \u001b[1;36m0.6118\u001b[0m, \u001b[1;36m0.4196\u001b[0m, \u001b[1;36m0.9922\u001b[0m, \u001b[1;36m0.9922\u001b[0m, \u001b[1;36m0.8039\u001b[0m, \u001b[1;36m0.0431\u001b[0m, \u001b[1;36m0.0000\u001b[0m, \u001b[1;36m0.1686\u001b[0m, \u001b[1;36m0.6039\u001b[0m,\n",
       "        \u001b[1;36m0.0000\u001b[0m, \u001b[1;36m0.0000\u001b[0m, \u001b[1;36m0.0000\u001b[0m, \u001b[1;36m0.0000\u001b[0m, \u001b[1;36m0.0000\u001b[0m, \u001b[1;36m0.0000\u001b[0m, \u001b[1;36m0.0000\u001b[0m, \u001b[1;36m0.0000\u001b[0m, \u001b[1;36m0.0000\u001b[0m,\n",
       "        \u001b[1;36m0.0000\u001b[0m, \u001b[1;36m0.0000\u001b[0m, \u001b[1;36m0.0000\u001b[0m, \u001b[1;36m0.0000\u001b[0m, \u001b[1;36m0.0000\u001b[0m, \u001b[1;36m0.0000\u001b[0m, \u001b[1;36m0.0000\u001b[0m, \u001b[1;36m0.0000\u001b[0m, \u001b[1;36m0.0000\u001b[0m,\n",
       "        \u001b[1;36m0.0000\u001b[0m, \u001b[1;36m0.0549\u001b[0m, \u001b[1;36m0.0039\u001b[0m, \u001b[1;36m0.6039\u001b[0m, \u001b[1;36m0.9922\u001b[0m, \u001b[1;36m0.3529\u001b[0m, \u001b[1;36m0.0000\u001b[0m, \u001b[1;36m0.0000\u001b[0m, \u001b[1;36m0.0000\u001b[0m,\n",
       "        \u001b[1;36m0.0000\u001b[0m, \u001b[1;36m0.0000\u001b[0m, \u001b[1;36m0.0000\u001b[0m, \u001b[1;36m0.0000\u001b[0m, \u001b[1;36m0.0000\u001b[0m, \u001b[1;36m0.0000\u001b[0m, \u001b[1;36m0.0000\u001b[0m, \u001b[1;36m0.0000\u001b[0m, \u001b[1;36m0.0000\u001b[0m,\n",
       "        \u001b[1;36m0.0000\u001b[0m, \u001b[1;36m0.0000\u001b[0m, \u001b[1;36m0.0000\u001b[0m, \u001b[1;36m0.0000\u001b[0m, \u001b[1;36m0.0000\u001b[0m, \u001b[1;36m0.0000\u001b[0m, \u001b[1;36m0.0000\u001b[0m, \u001b[1;36m0.0000\u001b[0m, \u001b[1;36m0.0000\u001b[0m,\n",
       "        \u001b[1;36m0.0000\u001b[0m, \u001b[1;36m0.0000\u001b[0m, \u001b[1;36m0.0000\u001b[0m, \u001b[1;36m0.0000\u001b[0m, \u001b[1;36m0.5451\u001b[0m, \u001b[1;36m0.9922\u001b[0m, \u001b[1;36m0.7451\u001b[0m, \u001b[1;36m0.0078\u001b[0m, \u001b[1;36m0.0000\u001b[0m,\n",
       "        \u001b[1;36m0.0000\u001b[0m, \u001b[1;36m0.0000\u001b[0m, \u001b[1;36m0.0000\u001b[0m, \u001b[1;36m0.0000\u001b[0m, \u001b[1;36m0.0000\u001b[0m, \u001b[1;36m0.0000\u001b[0m, \u001b[1;36m0.0000\u001b[0m, \u001b[1;36m0.0000\u001b[0m, \u001b[1;36m0.0000\u001b[0m,\n",
       "        \u001b[1;36m0.0000\u001b[0m, \u001b[1;36m0.0000\u001b[0m, \u001b[1;36m0.0000\u001b[0m, \u001b[1;36m0.0000\u001b[0m, \u001b[1;36m0.0000\u001b[0m, \u001b[1;36m0.0000\u001b[0m, \u001b[1;36m0.0000\u001b[0m, \u001b[1;36m0.0000\u001b[0m, \u001b[1;36m0.0000\u001b[0m,\n",
       "        \u001b[1;36m0.0000\u001b[0m, \u001b[1;36m0.0000\u001b[0m, \u001b[1;36m0.0000\u001b[0m, \u001b[1;36m0.0000\u001b[0m, \u001b[1;36m0.0000\u001b[0m, \u001b[1;36m0.0431\u001b[0m, \u001b[1;36m0.7451\u001b[0m, \u001b[1;36m0.9922\u001b[0m, \u001b[1;36m0.2745\u001b[0m,\n",
       "        \u001b[1;36m0.0000\u001b[0m, \u001b[1;36m0.0000\u001b[0m, \u001b[1;36m0.0000\u001b[0m, \u001b[1;36m0.0000\u001b[0m, \u001b[1;36m0.0000\u001b[0m, \u001b[1;36m0.0000\u001b[0m, \u001b[1;36m0.0000\u001b[0m, \u001b[1;36m0.0000\u001b[0m, \u001b[1;36m0.0000\u001b[0m,\n",
       "        \u001b[1;36m0.0000\u001b[0m, \u001b[1;36m0.0000\u001b[0m, \u001b[1;36m0.0000\u001b[0m, \u001b[1;36m0.0000\u001b[0m, \u001b[1;36m0.0000\u001b[0m, \u001b[1;36m0.0000\u001b[0m, \u001b[1;36m0.0000\u001b[0m, \u001b[1;36m0.0000\u001b[0m, \u001b[1;36m0.0000\u001b[0m,\n",
       "        \u001b[1;36m0.0000\u001b[0m, \u001b[1;36m0.0000\u001b[0m, \u001b[1;36m0.0000\u001b[0m, \u001b[1;36m0.0000\u001b[0m, \u001b[1;36m0.0000\u001b[0m, \u001b[1;36m0.0000\u001b[0m, \u001b[1;36m0.0000\u001b[0m, \u001b[1;36m0.1373\u001b[0m, \u001b[1;36m0.9451\u001b[0m,\n",
       "        \u001b[1;36m0.8824\u001b[0m, \u001b[1;36m0.6275\u001b[0m, \u001b[1;36m0.4235\u001b[0m, \u001b[1;36m0.0039\u001b[0m, \u001b[1;36m0.0000\u001b[0m, \u001b[1;36m0.0000\u001b[0m, \u001b[1;36m0.0000\u001b[0m, \u001b[1;36m0.0000\u001b[0m, \u001b[1;36m0.0000\u001b[0m,\n",
       "        \u001b[1;36m0.0000\u001b[0m, \u001b[1;36m0.0000\u001b[0m, \u001b[1;36m0.0000\u001b[0m, \u001b[1;36m0.0000\u001b[0m, \u001b[1;36m0.0000\u001b[0m, \u001b[1;36m0.0000\u001b[0m, \u001b[1;36m0.0000\u001b[0m, \u001b[1;36m0.0000\u001b[0m, \u001b[1;36m0.0000\u001b[0m,\n",
       "        \u001b[1;36m0.0000\u001b[0m, \u001b[1;36m0.0000\u001b[0m, \u001b[1;36m0.0000\u001b[0m, \u001b[1;36m0.0000\u001b[0m, \u001b[1;36m0.0000\u001b[0m, \u001b[1;36m0.0000\u001b[0m, \u001b[1;36m0.0000\u001b[0m, \u001b[1;36m0.0000\u001b[0m, \u001b[1;36m0.0000\u001b[0m,\n",
       "        \u001b[1;36m0.3176\u001b[0m, \u001b[1;36m0.9412\u001b[0m, \u001b[1;36m0.9922\u001b[0m, \u001b[1;36m0.9922\u001b[0m, \u001b[1;36m0.4667\u001b[0m, \u001b[1;36m0.0980\u001b[0m, \u001b[1;36m0.0000\u001b[0m, \u001b[1;36m0.0000\u001b[0m, \u001b[1;36m0.0000\u001b[0m,\n",
       "        \u001b[1;36m0.0000\u001b[0m, \u001b[1;36m0.0000\u001b[0m, \u001b[1;36m0.0000\u001b[0m, \u001b[1;36m0.0000\u001b[0m, \u001b[1;36m0.0000\u001b[0m, \u001b[1;36m0.0000\u001b[0m, \u001b[1;36m0.0000\u001b[0m, \u001b[1;36m0.0000\u001b[0m, \u001b[1;36m0.0000\u001b[0m,\n",
       "        \u001b[1;36m0.0000\u001b[0m, \u001b[1;36m0.0000\u001b[0m, \u001b[1;36m0.0000\u001b[0m, \u001b[1;36m0.0000\u001b[0m, \u001b[1;36m0.0000\u001b[0m, \u001b[1;36m0.0000\u001b[0m, \u001b[1;36m0.0000\u001b[0m, \u001b[1;36m0.0000\u001b[0m, \u001b[1;36m0.0000\u001b[0m,\n",
       "        \u001b[1;36m0.0000\u001b[0m, \u001b[1;36m0.0000\u001b[0m, \u001b[1;36m0.1765\u001b[0m, \u001b[1;36m0.7294\u001b[0m, \u001b[1;36m0.9922\u001b[0m, \u001b[1;36m0.9922\u001b[0m, \u001b[1;36m0.5882\u001b[0m, \u001b[1;36m0.1059\u001b[0m, \u001b[1;36m0.0000\u001b[0m,\n",
       "        \u001b[1;36m0.0000\u001b[0m, \u001b[1;36m0.0000\u001b[0m, \u001b[1;36m0.0000\u001b[0m, \u001b[1;36m0.0000\u001b[0m, \u001b[1;36m0.0000\u001b[0m, \u001b[1;36m0.0000\u001b[0m, \u001b[1;36m0.0000\u001b[0m, \u001b[1;36m0.0000\u001b[0m, \u001b[1;36m0.0000\u001b[0m,\n",
       "        \u001b[1;36m0.0000\u001b[0m, \u001b[1;36m0.0000\u001b[0m, \u001b[1;36m0.0000\u001b[0m, \u001b[1;36m0.0000\u001b[0m, \u001b[1;36m0.0000\u001b[0m, \u001b[1;36m0.0000\u001b[0m, \u001b[1;36m0.0000\u001b[0m, \u001b[1;36m0.0000\u001b[0m, \u001b[1;36m0.0000\u001b[0m,\n",
       "        \u001b[1;36m0.0000\u001b[0m, \u001b[1;36m0.0000\u001b[0m, \u001b[1;36m0.0000\u001b[0m, \u001b[1;36m0.0000\u001b[0m, \u001b[1;36m0.0627\u001b[0m, \u001b[1;36m0.3647\u001b[0m, \u001b[1;36m0.9882\u001b[0m, \u001b[1;36m0.9922\u001b[0m, \u001b[1;36m0.7333\u001b[0m,\n",
       "        \u001b[1;36m0.0000\u001b[0m, \u001b[1;36m0.0000\u001b[0m, \u001b[1;36m0.0000\u001b[0m, \u001b[1;36m0.0000\u001b[0m, \u001b[1;36m0.0000\u001b[0m, \u001b[1;36m0.0000\u001b[0m, \u001b[1;36m0.0000\u001b[0m, \u001b[1;36m0.0000\u001b[0m, \u001b[1;36m0.0000\u001b[0m,\n",
       "        \u001b[1;36m0.0000\u001b[0m, \u001b[1;36m0.0000\u001b[0m, \u001b[1;36m0.0000\u001b[0m, \u001b[1;36m0.0000\u001b[0m, \u001b[1;36m0.0000\u001b[0m, \u001b[1;36m0.0000\u001b[0m, \u001b[1;36m0.0000\u001b[0m, \u001b[1;36m0.0000\u001b[0m, \u001b[1;36m0.0000\u001b[0m,\n",
       "        \u001b[1;36m0.0000\u001b[0m, \u001b[1;36m0.0000\u001b[0m, \u001b[1;36m0.0000\u001b[0m, \u001b[1;36m0.0000\u001b[0m, \u001b[1;36m0.0000\u001b[0m, \u001b[1;36m0.0000\u001b[0m, \u001b[1;36m0.0000\u001b[0m, \u001b[1;36m0.9765\u001b[0m, \u001b[1;36m0.9922\u001b[0m,\n",
       "        \u001b[1;36m0.9765\u001b[0m, \u001b[1;36m0.2510\u001b[0m, \u001b[1;36m0.0000\u001b[0m, \u001b[1;36m0.0000\u001b[0m, \u001b[1;36m0.0000\u001b[0m, \u001b[1;36m0.0000\u001b[0m, \u001b[1;36m0.0000\u001b[0m, \u001b[1;36m0.0000\u001b[0m, \u001b[1;36m0.0000\u001b[0m,\n",
       "        \u001b[1;36m0.0000\u001b[0m, \u001b[1;36m0.0000\u001b[0m, \u001b[1;36m0.0000\u001b[0m, \u001b[1;36m0.0000\u001b[0m, \u001b[1;36m0.0000\u001b[0m, \u001b[1;36m0.0000\u001b[0m, \u001b[1;36m0.0000\u001b[0m, \u001b[1;36m0.0000\u001b[0m, \u001b[1;36m0.0000\u001b[0m,\n",
       "        \u001b[1;36m0.0000\u001b[0m, \u001b[1;36m0.0000\u001b[0m, \u001b[1;36m0.0000\u001b[0m, \u001b[1;36m0.0000\u001b[0m, \u001b[1;36m0.0000\u001b[0m, \u001b[1;36m0.1804\u001b[0m, \u001b[1;36m0.5098\u001b[0m, \u001b[1;36m0.7176\u001b[0m, \u001b[1;36m0.9922\u001b[0m,\n",
       "        \u001b[1;36m0.9922\u001b[0m, \u001b[1;36m0.8118\u001b[0m, \u001b[1;36m0.0078\u001b[0m, \u001b[1;36m0.0000\u001b[0m, \u001b[1;36m0.0000\u001b[0m, \u001b[1;36m0.0000\u001b[0m, \u001b[1;36m0.0000\u001b[0m, \u001b[1;36m0.0000\u001b[0m, \u001b[1;36m0.0000\u001b[0m,\n",
       "        \u001b[1;36m0.0000\u001b[0m, \u001b[1;36m0.0000\u001b[0m, \u001b[1;36m0.0000\u001b[0m, \u001b[1;36m0.0000\u001b[0m, \u001b[1;36m0.0000\u001b[0m, \u001b[1;36m0.0000\u001b[0m, \u001b[1;36m0.0000\u001b[0m, \u001b[1;36m0.0000\u001b[0m, \u001b[1;36m0.0000\u001b[0m,\n",
       "        \u001b[1;36m0.0000\u001b[0m, \u001b[1;36m0.0000\u001b[0m, \u001b[1;36m0.0000\u001b[0m, \u001b[1;36m0.0000\u001b[0m, \u001b[1;36m0.1529\u001b[0m, \u001b[1;36m0.5804\u001b[0m, \u001b[1;36m0.8980\u001b[0m, \u001b[1;36m0.9922\u001b[0m, \u001b[1;36m0.9922\u001b[0m,\n",
       "        \u001b[1;36m0.9922\u001b[0m, \u001b[1;36m0.9804\u001b[0m, \u001b[1;36m0.7137\u001b[0m, \u001b[1;36m0.0000\u001b[0m, \u001b[1;36m0.0000\u001b[0m, \u001b[1;36m0.0000\u001b[0m, \u001b[1;36m0.0000\u001b[0m, \u001b[1;36m0.0000\u001b[0m, \u001b[1;36m0.0000\u001b[0m,\n",
       "        \u001b[1;36m0.0000\u001b[0m, \u001b[1;36m0.0000\u001b[0m, \u001b[1;36m0.0000\u001b[0m, \u001b[1;36m0.0000\u001b[0m, \u001b[1;36m0.0000\u001b[0m, \u001b[1;36m0.0000\u001b[0m, \u001b[1;36m0.0000\u001b[0m, \u001b[1;36m0.0000\u001b[0m, \u001b[1;36m0.0000\u001b[0m,\n",
       "        \u001b[1;36m0.0000\u001b[0m, \u001b[1;36m0.0000\u001b[0m, \u001b[1;36m0.0000\u001b[0m, \u001b[1;36m0.0941\u001b[0m, \u001b[1;36m0.4471\u001b[0m, \u001b[1;36m0.8667\u001b[0m, \u001b[1;36m0.9922\u001b[0m, \u001b[1;36m0.9922\u001b[0m, \u001b[1;36m0.9922\u001b[0m,\n",
       "        \u001b[1;36m0.9922\u001b[0m, \u001b[1;36m0.7882\u001b[0m, \u001b[1;36m0.3059\u001b[0m, \u001b[1;36m0.0000\u001b[0m, \u001b[1;36m0.0000\u001b[0m, \u001b[1;36m0.0000\u001b[0m, \u001b[1;36m0.0000\u001b[0m, \u001b[1;36m0.0000\u001b[0m, \u001b[1;36m0.0000\u001b[0m,\n",
       "        \u001b[1;36m0.0000\u001b[0m, \u001b[1;36m0.0000\u001b[0m, \u001b[1;36m0.0000\u001b[0m, \u001b[1;36m0.0000\u001b[0m, \u001b[1;36m0.0000\u001b[0m, \u001b[1;36m0.0000\u001b[0m, \u001b[1;36m0.0000\u001b[0m, \u001b[1;36m0.0000\u001b[0m, \u001b[1;36m0.0000\u001b[0m,\n",
       "        \u001b[1;36m0.0000\u001b[0m, \u001b[1;36m0.0000\u001b[0m, \u001b[1;36m0.0902\u001b[0m, \u001b[1;36m0.2588\u001b[0m, \u001b[1;36m0.8353\u001b[0m, \u001b[1;36m0.9922\u001b[0m, \u001b[1;36m0.9922\u001b[0m, \u001b[1;36m0.9922\u001b[0m, \u001b[1;36m0.9922\u001b[0m,\n",
       "        \u001b[1;36m0.7765\u001b[0m, \u001b[1;36m0.3176\u001b[0m, \u001b[1;36m0.0078\u001b[0m, \u001b[1;36m0.0000\u001b[0m, \u001b[1;36m0.0000\u001b[0m, \u001b[1;36m0.0000\u001b[0m, \u001b[1;36m0.0000\u001b[0m, \u001b[1;36m0.0000\u001b[0m, \u001b[1;36m0.0000\u001b[0m,\n",
       "        \u001b[1;36m0.0000\u001b[0m, \u001b[1;36m0.0000\u001b[0m, \u001b[1;36m0.0000\u001b[0m, \u001b[1;36m0.0000\u001b[0m, \u001b[1;36m0.0000\u001b[0m, \u001b[1;36m0.0000\u001b[0m, \u001b[1;36m0.0000\u001b[0m, \u001b[1;36m0.0000\u001b[0m, \u001b[1;36m0.0000\u001b[0m,\n",
       "        \u001b[1;36m0.0000\u001b[0m, \u001b[1;36m0.0706\u001b[0m, \u001b[1;36m0.6706\u001b[0m, \u001b[1;36m0.8588\u001b[0m, \u001b[1;36m0.9922\u001b[0m, \u001b[1;36m0.9922\u001b[0m, \u001b[1;36m0.9922\u001b[0m, \u001b[1;36m0.9922\u001b[0m, \u001b[1;36m0.7647\u001b[0m,\n",
       "        \u001b[1;36m0.3137\u001b[0m, \u001b[1;36m0.0353\u001b[0m, \u001b[1;36m0.0000\u001b[0m, \u001b[1;36m0.0000\u001b[0m, \u001b[1;36m0.0000\u001b[0m, \u001b[1;36m0.0000\u001b[0m, \u001b[1;36m0.0000\u001b[0m, \u001b[1;36m0.0000\u001b[0m, \u001b[1;36m0.0000\u001b[0m,\n",
       "        \u001b[1;36m0.0000\u001b[0m, \u001b[1;36m0.0000\u001b[0m, \u001b[1;36m0.0000\u001b[0m, \u001b[1;36m0.0000\u001b[0m, \u001b[1;36m0.0000\u001b[0m, \u001b[1;36m0.0000\u001b[0m, \u001b[1;36m0.0000\u001b[0m, \u001b[1;36m0.0000\u001b[0m, \u001b[1;36m0.0000\u001b[0m,\n",
       "        \u001b[1;36m0.2157\u001b[0m, \u001b[1;36m0.6745\u001b[0m, \u001b[1;36m0.8863\u001b[0m, \u001b[1;36m0.9922\u001b[0m, \u001b[1;36m0.9922\u001b[0m, \u001b[1;36m0.9922\u001b[0m, \u001b[1;36m0.9922\u001b[0m, \u001b[1;36m0.9569\u001b[0m, \u001b[1;36m0.5216\u001b[0m,\n",
       "        \u001b[1;36m0.0431\u001b[0m, \u001b[1;36m0.0000\u001b[0m, \u001b[1;36m0.0000\u001b[0m, \u001b[1;36m0.0000\u001b[0m, \u001b[1;36m0.0000\u001b[0m, \u001b[1;36m0.0000\u001b[0m, \u001b[1;36m0.0000\u001b[0m, \u001b[1;36m0.0000\u001b[0m, \u001b[1;36m0.0000\u001b[0m,\n",
       "        \u001b[1;36m0.0000\u001b[0m, \u001b[1;36m0.0000\u001b[0m, \u001b[1;36m0.0000\u001b[0m, \u001b[1;36m0.0000\u001b[0m, \u001b[1;36m0.0000\u001b[0m, \u001b[1;36m0.0000\u001b[0m, \u001b[1;36m0.0000\u001b[0m, \u001b[1;36m0.0000\u001b[0m, \u001b[1;36m0.0000\u001b[0m,\n",
       "        \u001b[1;36m0.0000\u001b[0m, \u001b[1;36m0.5333\u001b[0m, \u001b[1;36m0.9922\u001b[0m, \u001b[1;36m0.9922\u001b[0m, \u001b[1;36m0.9922\u001b[0m, \u001b[1;36m0.8314\u001b[0m, \u001b[1;36m0.5294\u001b[0m, \u001b[1;36m0.5176\u001b[0m, \u001b[1;36m0.0627\u001b[0m,\n",
       "        \u001b[1;36m0.0000\u001b[0m, \u001b[1;36m0.0000\u001b[0m, \u001b[1;36m0.0000\u001b[0m, \u001b[1;36m0.0000\u001b[0m, \u001b[1;36m0.0000\u001b[0m, \u001b[1;36m0.0000\u001b[0m, \u001b[1;36m0.0000\u001b[0m, \u001b[1;36m0.0000\u001b[0m, \u001b[1;36m0.0000\u001b[0m,\n",
       "        \u001b[1;36m0.0000\u001b[0m, \u001b[1;36m0.0000\u001b[0m, \u001b[1;36m0.0000\u001b[0m, \u001b[1;36m0.0000\u001b[0m, \u001b[1;36m0.0000\u001b[0m, \u001b[1;36m0.0000\u001b[0m, \u001b[1;36m0.0000\u001b[0m, \u001b[1;36m0.0000\u001b[0m, \u001b[1;36m0.0000\u001b[0m,\n",
       "        \u001b[1;36m0.0000\u001b[0m, \u001b[1;36m0.0000\u001b[0m, \u001b[1;36m0.0000\u001b[0m, \u001b[1;36m0.0000\u001b[0m, \u001b[1;36m0.0000\u001b[0m, \u001b[1;36m0.0000\u001b[0m, \u001b[1;36m0.0000\u001b[0m, \u001b[1;36m0.0000\u001b[0m, \u001b[1;36m0.0000\u001b[0m,\n",
       "        \u001b[1;36m0.0000\u001b[0m, \u001b[1;36m0.0000\u001b[0m, \u001b[1;36m0.0000\u001b[0m, \u001b[1;36m0.0000\u001b[0m, \u001b[1;36m0.0000\u001b[0m, \u001b[1;36m0.0000\u001b[0m, \u001b[1;36m0.0000\u001b[0m, \u001b[1;36m0.0000\u001b[0m, \u001b[1;36m0.0000\u001b[0m,\n",
       "        \u001b[1;36m0.0000\u001b[0m, \u001b[1;36m0.0000\u001b[0m, \u001b[1;36m0.0000\u001b[0m, \u001b[1;36m0.0000\u001b[0m, \u001b[1;36m0.0000\u001b[0m, \u001b[1;36m0.0000\u001b[0m, \u001b[1;36m0.0000\u001b[0m, \u001b[1;36m0.0000\u001b[0m, \u001b[1;36m0.0000\u001b[0m,\n",
       "        \u001b[1;36m0.0000\u001b[0m, \u001b[1;36m0.0000\u001b[0m, \u001b[1;36m0.0000\u001b[0m, \u001b[1;36m0.0000\u001b[0m, \u001b[1;36m0.0000\u001b[0m, \u001b[1;36m0.0000\u001b[0m, \u001b[1;36m0.0000\u001b[0m, \u001b[1;36m0.0000\u001b[0m, \u001b[1;36m0.0000\u001b[0m,\n",
       "        \u001b[1;36m0.0000\u001b[0m, \u001b[1;36m0.0000\u001b[0m, \u001b[1;36m0.0000\u001b[0m, \u001b[1;36m0.0000\u001b[0m, \u001b[1;36m0.0000\u001b[0m, \u001b[1;36m0.0000\u001b[0m, \u001b[1;36m0.0000\u001b[0m, \u001b[1;36m0.0000\u001b[0m, \u001b[1;36m0.0000\u001b[0m,\n",
       "        \u001b[1;36m0.0000\u001b[0m, \u001b[1;36m0.0000\u001b[0m, \u001b[1;36m0.0000\u001b[0m, \u001b[1;36m0.0000\u001b[0m, \u001b[1;36m0.0000\u001b[0m, \u001b[1;36m0.0000\u001b[0m, \u001b[1;36m0.0000\u001b[0m, \u001b[1;36m0.0000\u001b[0m, \u001b[1;36m0.0000\u001b[0m,\n",
       "        \u001b[1;36m0.0000\u001b[0m, \u001b[1;36m0.0000\u001b[0m, \u001b[1;36m0.0000\u001b[0m, \u001b[1;36m0.0000\u001b[0m, \u001b[1;36m0.0000\u001b[0m, \u001b[1;36m0.0000\u001b[0m, \u001b[1;36m0.0000\u001b[0m, \u001b[1;36m0.0000\u001b[0m, \u001b[1;36m0.0000\u001b[0m,\n",
       "        \u001b[1;36m0.0000\u001b[0m, \u001b[1;36m0.0000\u001b[0m, \u001b[1;36m0.0000\u001b[0m, \u001b[1;36m0.0000\u001b[0m, \u001b[1;36m0.0000\u001b[0m, \u001b[1;36m0.0000\u001b[0m, \u001b[1;36m0.0000\u001b[0m, \u001b[1;36m0.0000\u001b[0m, \u001b[1;36m0.0000\u001b[0m,\n",
       "        \u001b[1;36m0.0000\u001b[0m, \u001b[1;36m0.0000\u001b[0m, \u001b[1;36m0.0000\u001b[0m, \u001b[1;36m0.0000\u001b[0m, \u001b[1;36m0.0000\u001b[0m, \u001b[1;36m0.0000\u001b[0m, \u001b[1;36m0.0000\u001b[0m, \u001b[1;36m0.0000\u001b[0m, \u001b[1;36m0.0000\u001b[0m,\n",
       "        \u001b[1;36m0.0000\u001b[0m\u001b[1m]\u001b[0m\u001b[1m)\u001b[0m\n"
      ]
     },
     "metadata": {},
     "output_type": "display_data"
    },
    {
     "data": {
      "text/html": [
       "<pre style=\"white-space:pre;overflow-x:auto;line-height:normal;font-family:Menlo,'DejaVu Sans Mono',consolas,'Courier New',monospace\">label: <span style=\"color: #800080; text-decoration-color: #800080; font-weight: bold\">tensor</span><span style=\"font-weight: bold\">([</span><span style=\"color: #008080; text-decoration-color: #008080; font-weight: bold\">5</span><span style=\"font-weight: bold\">])</span>\n",
       "</pre>\n"
      ],
      "text/plain": [
       "label: \u001b[1;35mtensor\u001b[0m\u001b[1m(\u001b[0m\u001b[1m[\u001b[0m\u001b[1;36m5\u001b[0m\u001b[1m]\u001b[0m\u001b[1m)\u001b[0m\n"
      ]
     },
     "metadata": {},
     "output_type": "display_data"
    }
   ],
   "source": [
    "image, label = ds_train[0].values()\n",
    "\n",
    "print(f\"image.shape: {image.shape}\")\n",
    "print(f\"label.shape: {label.shape}\")\n",
    "print(f\"image: {image}\")\n",
    "print(f\"label: {label}\")"
   ]
  },
  {
   "cell_type": "markdown",
   "metadata": {},
   "source": [
    "Let's do some sanity checks..."
   ]
  },
  {
   "cell_type": "markdown",
   "metadata": {},
   "source": [
    "Iterate through the entire dataset"
   ]
  },
  {
   "cell_type": "code",
   "execution_count": 32,
   "metadata": {},
   "outputs": [],
   "source": [
    "for x in ds_train:\n",
    "    image, label = x.values()\n",
    "    pass\n",
    "\n",
    "for x in ds_val:\n",
    "    image, label = x.values()\n",
    "    pass\n",
    "\n",
    "for x in ds_test:\n",
    "    image, label = x.values()\n",
    "    pass"
   ]
  },
  {
   "cell_type": "markdown",
   "metadata": {},
   "source": [
    "And let's look at some samples..."
   ]
  },
  {
   "cell_type": "code",
   "execution_count": 38,
   "metadata": {},
   "outputs": [
    {
     "data": {
      "image/png": "[encoded data removed]",
      "text/plain": [
       "<Figure size 640x480 with 1 Axes>"
      ]
     },
     "metadata": {},
     "output_type": "display_data"
    },
    {
     "data": {
      "image/png": "[encoded data removed]",
      "text/plain": [
       "<Figure size 640x480 with 1 Axes>"
      ]
     },
     "metadata": {},
     "output_type": "display_data"
    },
    {
     "data": {
      "image/png": "[encoded data removed]",
      "text/plain": [
       "<Figure size 640x480 with 1 Axes>"
      ]
     },
     "metadata": {},
     "output_type": "display_data"
    },
    {
     "data": {
      "image/png": "[encoded data removed]",
      "text/plain": [
       "<Figure size 640x480 with 1 Axes>"
      ]
     },
     "metadata": {},
     "output_type": "display_data"
    }
   ],
   "source": [
    "import torch\n",
    "import matplotlib.pyplot as plt\n",
    "\n",
    "for idx in [69, 420, 1337, -1]:\n",
    "    image, label = ds_train[idx].values()\n",
    "\n",
    "    # Reshape the image tensor to a 28x28 matrix\n",
    "    image = image.view(28, 28)\n",
    "\n",
    "    # Plot the image using matplotlib\n",
    "    # The image is in grayscale, so we use the 'gray' colormap\n",
    "    plt.imshow(image.numpy(), cmap='gray')\n",
    "    # Add a title with the label of the image\n",
    "    plt.title(f'MNIST Image (Label: {label.item()})')\n",
    "    # Hide the axes for better visualization\n",
    "    plt.axis('off')\n",
    "    # Display the plot\n",
    "    plt.show()"
   ]
  },
  {
   "cell_type": "markdown",
   "metadata": {},
   "source": [
    "Notice that we had to reshape data.\n",
    "\n",
    "The dataset has flattened the 2D images into 1D vectors, but plotting them requires them to be in their natural shape.\n",
    "\n",
    "Familiarize with the concept of reshaping, as it will be crucial for Deep Learning practitioners!"
   ]
  },
  {
   "cell_type": "markdown",
   "metadata": {},
   "source": [
    "The `MNISTDataset` class is the first data-related component that we need.\n",
    "\n",
    "The second one is a `DataLoader` instance.\n",
    "\n",
    "The DataLoader is the object actually responsible for loading data from the disk and getting it ready for the model to use.\n",
    "\n",
    "The DataLoader also solves a very important need in Deep Learning: data batching.\n",
    "\n",
    "When we talked about Gradient Descent, we skipped an important detail: how many data samples are needed to perform a parameter update?\n",
    "\n",
    "Classic Gradient Descent requires all data to be taken into consideration, but it is impossible due to memory constraints.\n",
    "\n",
    "For these reasons, Stochastic Gradient Descent (SGD) is the most used version of GD, where the update is performed after having seen just a bunch (a batch, or mini-batch!) of data!"
   ]
  },
  {
   "cell_type": "markdown",
   "metadata": {},
   "source": [
    "Getting a DataLoader is as simple as instantiating its PyTorch object.\n",
    "\n",
    "The main parameters to pass to a DataLoader are:\n",
    "- the dataset itself\n",
    "- the batch size, i.e. the number of elements that are required to perform the parameter update\n",
    "- whether to shuffle the data or not\n",
    "\n",
    "Shuffling the data is extremely important during training and it can be avoided at validation and test time.\n",
    "\n",
    "Why?\n",
    "\n",
    "Remember: Deep Learning models will try to cheat as much as possible, and one possible cheating may be the memorization of the data position in the dataset (e.g. the second element is always an 8? The model will memorize this and not look at the actual contents of the data)\n"
   ]
  },
  {
   "cell_type": "code",
   "execution_count": 41,
   "metadata": {},
   "outputs": [],
   "source": [
    "from torch.utils.data import DataLoader\n",
    "\n",
    "train_loader = DataLoader(ds_train, batch_size=8, shuffle=True)\n",
    "\n",
    "val_loader = DataLoader(ds_val, batch_size=8, shuffle=False)\n",
    "\n",
    "test_loader = DataLoader(ds_test, batch_size=8, shuffle=False)"
   ]
  }
 ],
 "metadata": {
  "kernelspec": {
   "display_name": "digits_classification",
   "language": "python",
   "name": "python3"
  },
  "language_info": {
   "codemirror_mode": {
    "name": "ipython",
    "version": 3
   },
   "file_extension": ".py",
   "mimetype": "text/x-python",
   "name": "python",
   "nbconvert_exporter": "python",
   "pygments_lexer": "ipython3",
   "version": "3.9.19"
  }
 },
 "nbformat": 4,
 "nbformat_minor": 2
}
